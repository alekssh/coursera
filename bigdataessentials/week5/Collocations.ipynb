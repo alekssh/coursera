{
 "cells": [
  {
   "cell_type": "code",
   "execution_count": 7,
   "metadata": {},
   "outputs": [],
   "source": [
    "from pyspark import SparkConf, SparkContext\n",
    "from math import log\n",
    "sc = SparkContext.getOrCreate(conf=SparkConf().setAppName(\"MyApp\").setMaster(\"local\"))\n",
    "\n",
    "import re\n",
    "\n",
    "def parse_article(line):\n",
    "    try:\n",
    "        article_id, text = unicode(line.rstrip()).split('\\t', 1)\n",
    "        text = re.sub(\"^\\W+|\\W+$\", \"\", text, flags=re.UNICODE)\n",
    "        words = re.split(\"\\W*\\s+\\W*\", text, flags=re.UNICODE)\n",
    "        words = [word.lower() for word in words]\n",
    "        words.append(\"END\")\n",
    "        return words\n",
    "    except ValueError as e:\n",
    "        return []\n",
    "    \n",
    "    \n",
    "stopWords = sc.textFile(\"/datasets/stop_words_en.txt\").collect()    \n",
    "\n",
    "stop = sc.broadcast(stopWords)\n",
    "\n",
    "wiki = sc.textFile(\"/data/wiki/en_articles_part/articles-part\", 16).flatMap(parse_article).filter(lambda x: x not in stop.value)\n",
    "wiki.cache()\n",
    "\n",
    "words = wiki.filter(lambda x:x != \"END\")"
   ]
  },
  {
   "cell_type": "code",
   "execution_count": 8,
   "metadata": {},
   "outputs": [],
   "source": [
    "words_count = words.count()\n",
    "\n",
    "words_probability = words.map(lambda x: (x,1)).reduceByKey(lambda x,y: x+y).mapValues(lambda v:1.0*v/words_count)"
   ]
  },
  {
   "cell_type": "code",
   "execution_count": 3,
   "metadata": {},
   "outputs": [],
   "source": [
    "indexed = wiki.zipWithIndex().map(lambda (k,v):(v,k))\n",
    "indexed.cache()\n",
    "shifted = indexed.map(lambda (k,v):(k+1,v))\n",
    "\n",
    "pairs = shifted.join(indexed).map(lambda (k, v): v).filter(lambda pair: pair[0] !=\"END\" and pair[1] != \"END\")\n",
    "pairs.cache()\n",
    "\n",
    "pairs_count = pairs.count()"
   ]
  },
  {
   "cell_type": "code",
   "execution_count": 4,
   "metadata": {},
   "outputs": [
    {
     "data": {
      "text/plain": [
       "PythonRDD[25] at RDD at PythonRDD.scala:48"
      ]
     },
     "execution_count": 4,
     "metadata": {},
     "output_type": "execute_result"
    }
   ],
   "source": [
    "pairs_probabiltity = pairs.map(lambda x: (x, 1)).reduceByKey(lambda x, y:x+y).filter(lambda (k, v): v > 500).map(lambda (k,v):(k,1.0*v/pairs_count))\n",
    "pairs_probabiltity.cache()"
   ]
  },
  {
   "cell_type": "code",
   "execution_count": 5,
   "metadata": {},
   "outputs": [],
   "source": [
    "first_word = pairs_probabiltity.map(lambda (pair, p): (pair[0], (pair, p))).join(words_probability)\\\n",
    ".map(lambda (k,v): (v[0][0],(v[0][1],v[1])))\n",
    "\n",
    "second_word = pairs_probabiltity.map(lambda (pair, p): (pair[1], (pair, p))).join(words_probability)\\\n",
    ".map(lambda (k,v): (v[0][0],(v[0][1],v[1])))\n",
    "\n",
    "probabilities = first_word.join(second_word).map(lambda (k,v): (k,(v[0][0],v[0][1],v[1][1])))"
   ]
  },
  {
   "cell_type": "code",
   "execution_count": 9,
   "metadata": {},
   "outputs": [
    {
     "name": "stdout",
     "output_type": "stream",
     "text": [
      "los_angeles\n",
      "external_links\n",
      "united_states\n",
      "prime_minister\n",
      "san_francisco\n",
      "et_al\n",
      "new_york\n",
      "supreme_court\n",
      "19th_century\n",
      "20th_century\n",
      "references_external\n",
      "soviet_union\n",
      "air_force\n",
      "baseball_player\n",
      "university_press\n",
      "roman_catholic\n",
      "united_kingdom\n",
      "references_reading\n",
      "notes_references\n",
      "award_best\n",
      "north_america\n",
      "new_zealand\n",
      "civil_war\n",
      "catholic_church\n",
      "world_war\n",
      "war_ii\n",
      "south_africa\n",
      "took_place\n",
      "roman_empire\n",
      "united_nations\n",
      "american_singer-songwriter\n",
      "high_school\n",
      "american_actor\n",
      "american_actress\n",
      "american_baseball\n",
      "york_city\n",
      "american_football\n",
      "years_later\n",
      "north_american\n"
     ]
    }
   ],
   "source": [
    "result = probabilities.mapValues(lambda (prob_pair, prob_a,prob_b): -1.0*log(prob_pair/(prob_a * prob_b))/log(prob_pair)).\\\n",
    "sortBy(lambda (k,v):-1*v).map(lambda (k,v): \"%s_%s\"%(k[0],k[1]))\n",
    "\n",
    "for word in result.take(39):\n",
    "    print word\n"
   ]
  },
  {
   "cell_type": "code",
   "execution_count": null,
   "metadata": {},
   "outputs": [],
   "source": []
  }
 ],
 "metadata": {
  "kernelspec": {
   "display_name": "Python 2",
   "language": "python",
   "name": "python2"
  },
  "language_info": {
   "codemirror_mode": {
    "name": "ipython",
    "version": 2
   },
   "file_extension": ".py",
   "mimetype": "text/x-python",
   "name": "python",
   "nbconvert_exporter": "python",
   "pygments_lexer": "ipython2",
   "version": "2.7.12"
  }
 },
 "nbformat": 4,
 "nbformat_minor": 2
}
