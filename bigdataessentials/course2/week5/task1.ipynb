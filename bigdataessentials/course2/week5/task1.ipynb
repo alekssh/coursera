{
 "cells": [
  {
   "cell_type": "code",
   "execution_count": 1,
   "metadata": {},
   "outputs": [],
   "source": [
    "from pyspark.sql import SparkSession\n",
    "sparkSession = SparkSession.builder.enableHiveSupport().master(\"local[2]\").getOrCreate()"
   ]
  },
  {
   "cell_type": "code",
   "execution_count": 2,
   "metadata": {},
   "outputs": [],
   "source": [
    "data = sparkSession.read.parquet(\"/data/sample264\")\n",
    "meta = sparkSession.read.parquet(\"/data/meta\")"
   ]
  },
  {
   "cell_type": "code",
   "execution_count": 3,
   "metadata": {},
   "outputs": [],
   "source": [
    "from pyspark.sql import Window\n",
    "from pyspark.sql.functions import *\n",
    "\n",
    "def norm(df, key1, field, n): \n",
    "    \n",
    "    window = Window.partitionBy(key1).orderBy(col(field).desc())\n",
    "        \n",
    "    topsDF = df.withColumn(\"row_number\", row_number().over(window)) \\\n",
    "        .filter(col(\"row_number\") <= n) \\\n",
    "        .drop(col(\"row_number\")) \n",
    "        \n",
    "    tmpDF = topsDF.groupBy(col(key1)).agg(col(key1), sum(col(field)).alias(\"sum_\" + field))\n",
    "   \n",
    "    normalizedDF = topsDF.join(tmpDF, key1, \"inner\") \\\n",
    "        .withColumn(\"norm_\" + field, col(field) / col(\"sum_\" + field)) \\\n",
    "        .cache()\n",
    "\n",
    "    return normalizedDF"
   ]
  },
  {
   "cell_type": "code",
   "execution_count": 6,
   "metadata": {},
   "outputs": [
    {
     "name": "stdout",
     "output_type": "stream",
     "text": [
      "798256 923706\n",
      "798319 837992\n",
      "798322 876562\n",
      "798331 827364\n",
      "798335 840741\n",
      "798374 816874\n",
      "798375 810685\n",
      "798379 812055\n",
      "798380 840113\n",
      "798396 817687\n",
      "798398 926302\n",
      "798405 867217\n",
      "798443 905923\n",
      "798457 918918\n",
      "798460 891840\n",
      "798461 940379\n",
      "798470 840814\n",
      "798474 963162\n",
      "798477 883244\n",
      "798485 955521\n",
      "798505 905671\n",
      "798545 949238\n",
      "798550 936295\n",
      "798626 845438\n",
      "798691 818279\n",
      "798692 898823\n",
      "798702 811440\n",
      "798704 937570\n",
      "798725 933147\n",
      "798738 894170\n",
      "798745 799665\n",
      "798782 956938\n",
      "798801 950802\n",
      "798820 890393\n",
      "798833 916319\n",
      "798865 962662\n",
      "798931 893574\n",
      "798946 946408\n",
      "799012 809997\n",
      "799024 935246\n"
     ]
    }
   ],
   "source": [
    "data.cache()\n",
    "\n",
    "data_copy = data.withColumnRenamed(\"timestamp\", \"timestamp2\").withColumnRenamed(\"trackId\", \"trackId2\")\n",
    "\n",
    "track_to_track = data \\\n",
    "    .join(data_copy, \"userId\") \\\n",
    "    .filter(~(data.trackId==data_copy.trackId2) & (data_copy.timestamp2 >= data.timestamp)) \\\n",
    "    .withColumn(\"time_diff\", col(\"timestamp2\")-col(\"timestamp\")) \\\n",
    "    .filter(col(\"time_diff\") <= 7*60) \\\n",
    "    .withColumn(\"tr1\", least(col(\"trackId\"), col(\"trackId2\"))) \\\n",
    "    .withColumn(\"tr2\", greatest(col(\"trackId\"), col(\"trackId2\"))) \\\n",
    "    .groupBy(col(\"tr1\"), col(\"tr2\")).count()\n",
    "   \n",
    "\n",
    "normalized = norm(track_to_track, \"tr1\", \"count\", 40) \\\n",
    "    .withColumn(\"id\", column(\"tr1\")) \\\n",
    "    .withColumn(\"id2\", column(\"tr2\")) \\\n",
    "    .select(col(\"id\"), col(\"id2\"), col(\"norm_count\"))     \n",
    "\n",
    "window = Window.orderBy(col(\"norm_count\").desc())\n",
    "\n",
    "top = normalized.withColumn(\"pos\", rank().over(window)) \\\n",
    "    .filter(col(\"pos\") <= 40) \\\n",
    "    .orderBy(col(\"id\").asc(), col(\"id2\").asc()) \\\n",
    "    .select(col(\"id\"), col(\"id2\")) \\\n",
    "    .take(40)\n",
    "\n",
    "    \n",
    "for item in top:\n",
    "    print \"%s %s\" % item\n",
    "    \n",
    "    \n",
    "\n",
    "\n"
   ]
  },
  {
   "cell_type": "code",
   "execution_count": null,
   "metadata": {},
   "outputs": [],
   "source": []
  }
 ],
 "metadata": {
  "kernelspec": {
   "display_name": "Python 2",
   "language": "python",
   "name": "python2"
  },
  "language_info": {
   "codemirror_mode": {
    "name": "ipython",
    "version": 2
   },
   "file_extension": ".py",
   "mimetype": "text/x-python",
   "name": "python",
   "nbconvert_exporter": "python",
   "pygments_lexer": "ipython2",
   "version": "2.7.12"
  }
 },
 "nbformat": 4,
 "nbformat_minor": 2
}
