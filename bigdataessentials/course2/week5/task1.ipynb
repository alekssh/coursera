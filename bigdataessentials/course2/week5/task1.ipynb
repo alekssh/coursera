{
 "cells": [
  {
   "cell_type": "code",
   "execution_count": 91,
   "metadata": {},
   "outputs": [],
   "source": [
    "from pyspark.sql import SparkSession\n",
    "sparkSession = SparkSession.builder.enableHiveSupport().master(\"local [2]\").getOrCreate()"
   ]
  },
  {
   "cell_type": "code",
   "execution_count": 92,
   "metadata": {},
   "outputs": [],
   "source": [
    "data = sparkSession.read.parquet(\"/data/sample264\")\n",
    "meta = sparkSession.read.parquet(\"/data/meta\")"
   ]
  },
  {
   "cell_type": "code",
   "execution_count": 93,
   "metadata": {},
   "outputs": [],
   "source": [
    "from pyspark.sql import Window\n",
    "from pyspark.sql.functions import *\n",
    "\n",
    "def norm(df, key1, field, n): \n",
    "    \n",
    "    window = Window.partitionBy(key1).orderBy(col(field).desc())\n",
    "        \n",
    "    topsDF = df.withColumn(\"row_number\", row_number().over(window)) \\\n",
    "        .filter(col(\"row_number\") <= n) \\\n",
    "        .drop(col(\"row_number\")) \n",
    "        \n",
    "    tmpDF = df.agg(sum(col(field)).alias(\"sum_\" + field))\n",
    "   \n",
    "    normalizedDF = topsDF.crossJoin(tmpDF) \\\n",
    "        .withColumn(\"norm_\" + field, col(field) / col(\"sum_\" + field)) \\\n",
    "        .cache()\n",
    "\n",
    "    return normalizedDF"
   ]
  },
  {
   "cell_type": "code",
   "execution_count": 94,
   "metadata": {},
   "outputs": [
    {
     "name": "stdout",
     "output_type": "stream",
     "text": [
      "805688 947174\n",
      "810775 821251\n",
      "821251 810775\n",
      "821288 825174\n",
      "821288 924215\n",
      "825174 821288\n",
      "831005 864690\n",
      "831005 940362\n",
      "841340 858904\n",
      "846587 946758\n",
      "854531 870292\n",
      "854531 879259\n",
      "854531 933030\n",
      "858904 841340\n",
      "858904 870292\n",
      "858904 871513\n",
      "858904 947174\n",
      "864690 831005\n",
      "864690 940362\n",
      "870292 854531\n",
      "870292 858904\n",
      "870292 871513\n",
      "870292 939606\n",
      "871513 858904\n",
      "871513 870292\n",
      "871513 933030\n",
      "879259 854531\n",
      "886091 940951\n",
      "901965 908335\n",
      "908335 901965\n",
      "924215 821288\n",
      "933030 854531\n",
      "933030 871513\n",
      "939606 870292\n",
      "940362 831005\n",
      "940362 864690\n",
      "940951 886091\n",
      "946758 846587\n",
      "947174 805688\n",
      "947174 858904\n"
     ]
    }
   ],
   "source": [
    "data.cache()\n",
    "\n",
    "data_copy = data.withColumnRenamed(\"timestamp\", \"timestamp2\").withColumnRenamed(\"trackId\", \"trackId2\")\n",
    "\n",
    "track_to_track = data \\\n",
    "    .join(data_copy, (data.userId == data_copy.userId) & ~(data.trackId == data_copy.trackId2), \"inner\") \\\n",
    "    .withColumn(\"time_diff\", abs(col(\"timestamp\")-col(\"timestamp2\"))) \\\n",
    "    .withColumn(\"weight\", when(col(\"time_diff\") < 7*60, 1).otherwise(0)) \\\n",
    "    .groupBy(col(\"trackId\"), col(\"trackId2\")) \\\n",
    "    .agg(sum(\"weight\").alias(\"weight\"))\n",
    "    \n",
    "\n",
    "normalized = norm(track_to_track, \"trackId\", \"weight\", 40)\n",
    "\n",
    "window = Window.orderBy(col(\"norm_weight\").desc())\n",
    "\n",
    "top = normalized.withColumn(\"pos\", row_number().over(window)) \\\n",
    "    .filter(col(\"pos\") <= 40) \\\n",
    "    .orderBy(col(\"trackId\").asc(), col(\"trackId2\").asc()) \\\n",
    "    .collect()\n",
    "\n",
    "    \n",
    "for item in top:\n",
    "    print \"%s %s\" % (item.trackId, item.trackId2)\n",
    "    \n",
    "    \n",
    "\n",
    "\n"
   ]
  },
  {
   "cell_type": "code",
   "execution_count": null,
   "metadata": {},
   "outputs": [],
   "source": []
  }
 ],
 "metadata": {
  "kernelspec": {
   "display_name": "Python 2",
   "language": "python",
   "name": "python2"
  },
  "language_info": {
   "codemirror_mode": {
    "name": "ipython",
    "version": 2
   },
   "file_extension": ".py",
   "mimetype": "text/x-python",
   "name": "python",
   "nbconvert_exporter": "python",
   "pygments_lexer": "ipython2",
   "version": "2.7.12"
  }
 },
 "nbformat": 4,
 "nbformat_minor": 2
}
