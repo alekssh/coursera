{
 "cells": [
  {
   "cell_type": "code",
   "execution_count": 53,
   "metadata": {},
   "outputs": [],
   "source": [
    "from pyspark.sql import SparkSession\n",
    "sparkSession = SparkSession.builder.enableHiveSupport().master(\"local[2]\").getOrCreate()"
   ]
  },
  {
   "cell_type": "code",
   "execution_count": 54,
   "metadata": {},
   "outputs": [],
   "source": [
    "data = sparkSession.read.parquet(\"/data/sample264\")\n",
    "meta = sparkSession.read.parquet(\"/data/meta\")"
   ]
  },
  {
   "cell_type": "code",
   "execution_count": 55,
   "metadata": {},
   "outputs": [],
   "source": [
    "from pyspark.sql import Window\n",
    "from pyspark.sql.functions import *\n",
    "\n",
    "def norm(df, key1, field, n): \n",
    "    \n",
    "    window = Window.partitionBy(key1).orderBy(col(field).desc())\n",
    "        \n",
    "    topsDF = df.withColumn(\"row_number\", row_number().over(window)) \\\n",
    "        .filter(col(\"row_number\") <= n) \\\n",
    "        .drop(col(\"row_number\")) \n",
    "        \n",
    "    tmpDF = topsDF.groupBy(col(key1)).agg(col(key1), sum(col(field)).alias(\"sum_\" + field))\n",
    "   \n",
    "    normalizedDF = topsDF.join(tmpDF, key1, \"inner\") \\\n",
    "        .withColumn(\"norm_\" + field, col(field) / col(\"sum_\" + field)) \\\n",
    "        .cache()\n",
    "\n",
    "    return normalizedDF"
   ]
  },
  {
   "cell_type": "code",
   "execution_count": 57,
   "metadata": {},
   "outputs": [
    {
     "name": "stdout",
     "output_type": "stream",
     "text": [
      "801701 920990\n",
      "808110 894437\n",
      "809289 847119\n",
      "814446 870227\n",
      "819569 800325\n",
      "827209 942995\n",
      "828366 830694\n",
      "829292 871752\n",
      "830062 849304\n",
      "831434 856391\n",
      "832475 925631\n",
      "832553 836728\n",
      "836522 907798\n",
      "840315 878511\n",
      "841759 898484\n",
      "844651 897648\n",
      "844819 834559\n",
      "847806 949091\n",
      "852427 825116\n",
      "856311 875086\n",
      "857303 943835\n",
      "875876 916850\n",
      "878289 814956\n",
      "879172 898823\n",
      "879366 814475\n",
      "882856 841509\n",
      "889636 799651\n",
      "890604 904285\n",
      "890920 838812\n",
      "895618 944759\n",
      "903281 810518\n",
      "904487 810488\n",
      "907516 845402\n",
      "923176 831580\n",
      "926952 818440\n",
      "932765 860022\n",
      "933119 883990\n",
      "935205 829417\n",
      "940165 823397\n",
      "941115 949312\n"
     ]
    }
   ],
   "source": [
    "data.cache()\n",
    "\n",
    "data_copy = data.withColumnRenamed(\"timestamp\", \"timestamp2\").withColumnRenamed(\"trackId\", \"trackId2\")\n",
    "\n",
    "track_to_track = data \\\n",
    "    .join(data_copy, \"userId\") \\\n",
    "    .filter(~(data.trackId==data_copy.trackId2) & (data_copy.timestamp2 >= data.timestamp)) \\\n",
    "    .withColumn(\"time_diff\", col(\"timestamp2\")-col(\"timestamp\")) \\\n",
    "    .filter(col(\"time_diff\") <= 7*60) \\\n",
    "    .groupBy(col(\"trackId\"), col(\"trackId2\")).count()\n",
    "\n",
    "normalized = norm(track_to_track, \"trackId\", \"count\", 40) \\\n",
    "    .withColumn(\"id\", column(\"trackId\")) \\\n",
    "    .withColumn(\"id2\", column(\"trackId2\")) \\\n",
    "    .select(col(\"id\"), col(\"id2\"), col(\"norm_count\"))     \n",
    "\n",
    "window = Window.orderBy(col(\"norm_count\").desc())\n",
    "\n",
    "top = normalized.withColumn(\"pos\", rank().over(window)) \\\n",
    "    .filter(col(\"pos\") <= 40) \\\n",
    "    .orderBy(col(\"id\").asc(), col(\"id2\").asc()) \\\n",
    "    .select(col(\"id\"), col(\"id2\")) \\\n",
    "    .take(40)\n",
    "\n",
    "    \n",
    "for item in top:\n",
    "    print \"%s %s\" % item\n",
    "    \n",
    "    \n",
    "\n",
    "\n"
   ]
  },
  {
   "cell_type": "code",
   "execution_count": null,
   "metadata": {},
   "outputs": [],
   "source": []
  }
 ],
 "metadata": {
  "kernelspec": {
   "display_name": "Python 2",
   "language": "python",
   "name": "python2"
  },
  "language_info": {
   "codemirror_mode": {
    "name": "ipython",
    "version": 2
   },
   "file_extension": ".py",
   "mimetype": "text/x-python",
   "name": "python",
   "nbconvert_exporter": "python",
   "pygments_lexer": "ipython2",
   "version": "2.7.12"
  }
 },
 "nbformat": 4,
 "nbformat_minor": 2
}
