{
 "cells": [
  {
   "cell_type": "code",
   "execution_count": 1,
   "metadata": {},
   "outputs": [],
   "source": [
    "from pyspark.sql import SparkSession\n",
    "sparkSession = SparkSession.builder.enableHiveSupport().master(\"local[2]\").getOrCreate()"
   ]
  },
  {
   "cell_type": "code",
   "execution_count": 2,
   "metadata": {},
   "outputs": [],
   "source": [
    "data = sparkSession.read.parquet(\"/data/sample264\")\n",
    "meta = sparkSession.read.parquet(\"/data/meta\")"
   ]
  },
  {
   "cell_type": "code",
   "execution_count": 3,
   "metadata": {},
   "outputs": [],
   "source": [
    "from pyspark.sql import Window\n",
    "from pyspark.sql.functions import *\n",
    "\n",
    "def norm(df, key1, field, n): \n",
    "    \n",
    "    window = Window.partitionBy(key1).orderBy(col(field).desc())\n",
    "        \n",
    "    topsDF = df.withColumn(\"row_number\", row_number().over(window)) \\\n",
    "        .filter(col(\"row_number\") <= n) \\\n",
    "        .drop(col(\"row_number\")) \n",
    "        \n",
    "    tmpDF = topsDF.groupBy(col(key1)).agg(col(key1), sum(col(field)).alias(\"sum_\" + field))\n",
    "   \n",
    "    normalizedDF = topsDF.join(tmpDF, key1, \"inner\") \\\n",
    "        .withColumn(\"norm_\" + field, col(field) / col(\"sum_\" + field)) \\\n",
    "        .cache()\n",
    "\n",
    "    return normalizedDF"
   ]
  },
  {
   "cell_type": "code",
   "execution_count": 6,
   "metadata": {},
   "outputs": [
    {
     "name": "stdout",
     "output_type": "stream",
     "text": [
      "798256 923706\n",
      "798258 808254\n",
      "798290 906999\n",
      "798302 836228\n",
      "798311 903496\n",
      "798322 876562\n",
      "798331 827364\n",
      "798335 840741\n",
      "798375 798375\n",
      "798376 888871\n",
      "798379 812055\n",
      "798396 798396\n",
      "798398 926302\n",
      "798403 868805\n",
      "798405 867217\n",
      "798426 910880\n",
      "798447 832635\n",
      "798457 918918\n",
      "798471 801831\n",
      "798474 963162\n",
      "798475 827475\n",
      "798493 899168\n",
      "798505 905671\n",
      "798508 810743\n",
      "798516 860347\n",
      "798526 937573\n",
      "798542 946408\n",
      "798544 841232\n",
      "798550 936295\n",
      "798552 830267\n",
      "798579 821762\n",
      "798667 874844\n",
      "798682 934393\n",
      "798704 937570\n",
      "798707 839389\n",
      "798720 958333\n",
      "798725 933147\n",
      "798731 853117\n",
      "798782 956938\n",
      "798797 967698\n"
     ]
    }
   ],
   "source": [
    "data.cache()\n",
    "\n",
    "track_win = Window.partitionBy(\"userId\").orderBy(col(\"timestamp\"))\n",
    "\n",
    "track_to_track = data \\\n",
    "    .withColumn(\"prev_timestamp\", lag(\"timestamp\", 1).over(track_win)) \\\n",
    "    .withColumn(\"prev_trackId\", lag(\"trackId\", 1).over(track_win)) \\\n",
    "    .filter(col(\"prev_trackId\").isNotNull()) \\\n",
    "    .withColumn(\"time_diff\", col(\"timestamp\")-col(\"prev_timestamp\")) \\\n",
    "    .filter(col(\"time_diff\") <= 7*60) \\\n",
    "    .groupBy(col(\"prev_trackId\"), col(\"trackId\")).count()\n",
    "\n",
    "normalized = norm(track_to_track, \"prev_trackId\", \"count\", 40) \\\n",
    "    .withColumn(\"id\", column(\"prev_trackId\")) \\\n",
    "    .withColumn(\"id2\", column(\"trackId\")) \\\n",
    "    .select(col(\"id\"), col(\"id2\"), col(\"norm_count\"))     \n",
    "\n",
    "window = Window.orderBy(col(\"norm_count\").desc())\n",
    "\n",
    "top = normalized.withColumn(\"pos\", rank().over(window)) \\\n",
    "    .filter(col(\"pos\") <= 40) \\\n",
    "    .orderBy(col(\"id\").asc(), col(\"id2\").asc()) \\\n",
    "    .select(col(\"id\"), col(\"id2\")) \\\n",
    "    .take(40)\n",
    "\n",
    "    \n",
    "for item in top:\n",
    "    print \"%s %s\" % item\n",
    "    \n",
    "\n",
    "\n"
   ]
  },
  {
   "cell_type": "code",
   "execution_count": null,
   "metadata": {},
   "outputs": [],
   "source": []
  }
 ],
 "metadata": {
  "kernelspec": {
   "display_name": "Python 2",
   "language": "python",
   "name": "python2"
  },
  "language_info": {
   "codemirror_mode": {
    "name": "ipython",
    "version": 2
   },
   "file_extension": ".py",
   "mimetype": "text/x-python",
   "name": "python",
   "nbconvert_exporter": "python",
   "pygments_lexer": "ipython2",
   "version": "2.7.12"
  }
 },
 "nbformat": 4,
 "nbformat_minor": 2
}
