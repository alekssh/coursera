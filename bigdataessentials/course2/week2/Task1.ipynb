{
 "cells": [
  {
   "cell_type": "code",
   "execution_count": 15,
   "metadata": {},
   "outputs": [
    {
     "name": "stdout",
     "output_type": "stream",
     "text": [
      "Overwriting create_db.hql\n"
     ]
    }
   ],
   "source": [
    "%%writefile create_db.hql\n",
    "\n",
    "DROP DATABASE IF EXISTS stackoverflow CASCADE;\n",
    "CREATE DATABASE stackoverflow LOCATION '/user/hdjudge/store/stackoverflow';\n",
    "USE stackoverflow;"
   ]
  },
  {
   "cell_type": "code",
   "execution_count": 16,
   "metadata": {},
   "outputs": [
    {
     "name": "stdout",
     "output_type": "stream",
     "text": [
      "Overwriting external_table.hql\n"
     ]
    }
   ],
   "source": [
    "%%writefile external_table.hql\n",
    "\n",
    "ADD JAR /opt/cloudera/parcels/CDH/lib/hive/lib/hive-contrib.jar;\n",
    "ADD JAR /opt/cloudera/parcels/CDH/lib/hive/lib/hive-serde.jar;\n",
    "\n",
    "DROP TABLE IF EXISTS posts_sample_external;\n",
    "\n",
    "CREATE EXTERNAL TABLE posts_sample_external (\n",
    "    id INT,\n",
    "    post_type_id TINYINT,\n",
    "    date STRING,\n",
    "    owner_user_id INT,\n",
    "    parent_id INT,\n",
    "    score INT,\n",
    "    favorite_count INT,\n",
    "    tags STRING    \n",
    ")\n",
    "ROW FORMAT SERDE 'org.apache.hadoop.hive.serde2.RegexSerDe' WITH SERDEPROPERTIES\n",
    "('input.regex'='.*(?=\\\\bId=\\\"(\\\\d+)\\\")(?=.*\\\\bPostTypeId=\\\"(\\\\d+)\\\")(?=.*\\\\bCreationDate=\\\"(.{23})\\\")(?=.*\\\\bOwnerUserId=\\\"(\\\\d+)\\\")?(?=.*\\\\bParentId=\\\"(\\\\d+)\\\")?(?=.*\\\\bScore=\\\"(\\\\d+)\\\")(?=.*\\\\bFavoriteCount=\\\"(\\\\d+)\\\")?(?=.*\\\\bTags=\\\"(&lt\\;.*gt\\;)\\\")?.*')\n",
    "LOCATION '/data/stackexchange1000/posts';\n"
   ]
  },
  {
   "cell_type": "code",
   "execution_count": 26,
   "metadata": {},
   "outputs": [
    {
     "name": "stdout",
     "output_type": "stream",
     "text": [
      "Overwriting sample.hql\n"
     ]
    }
   ],
   "source": [
    "%%writefile sample.hql\n",
    "\n",
    "set hive.exec.dynamic.partition.mode=nonstrict\n",
    "\n",
    "DROP TABLE IF EXISTS posts_sample;\n",
    "\n",
    "CREATE TABLE posts_sample (\n",
    "    id INT,\n",
    "    post_type_id TINYINT,\n",
    "    owner_user_id INT,\n",
    "    parent_id INT,\n",
    "    score INT,\n",
    "    favorite_count INT,\n",
    "    tags ARRAY<STRING>\n",
    "    \n",
    ") \n",
    "PARTITIONED BY (year STRING, month STRING)\n",
    "STORED AS SEQUENCEFILE;\n",
    "\n",
    "FROM posts_sample_external se\n",
    "INSERT OVERWRITE TABLE posts_sample PARTITION(year, month)\n",
    "    select se.id, se.post_type_id, se.owner_user_id, se.parent_id, se.score, se.favorite_count,split(se.tags,\"&lt\\;|&gt\\;\"),substr(se.date,0,4), substr(se.date,6,2)\n",
    "    WHERE se.id IS NOT NULL;\n"
   ]
  },
  {
   "cell_type": "code",
   "execution_count": 27,
   "metadata": {},
   "outputs": [
    {
     "name": "stdout",
     "output_type": "stream",
     "text": [
      "Overwriting count.hql\n"
     ]
    }
   ],
   "source": [
    "%%writefile count.hql\n",
    "\n",
    "INSERT OVERWRITE LOCAL DIRECTORY 'result' row format delimited fields terminated by '\\t' stored as textfile\n",
    "SELECT year,concat(year, \"-\", month),count(*) FROM posts_sample group by year,month LIMIT 3;"
   ]
  },
  {
   "cell_type": "code",
   "execution_count": null,
   "metadata": {},
   "outputs": [
    {
     "name": "stdout",
     "output_type": "stream",
     "text": [
      "\n",
      "Logging initialized using configuration in jar:file:/usr/local/apache-hive-1.1.0-bin/lib/hive-common-1.1.0.jar!/hive-log4j.properties\n",
      "OK\n",
      "Time taken: 1.683 seconds\n",
      "OK\n",
      "Time taken: 0.348 seconds\n",
      "OK\n",
      "Time taken: 0.025 seconds\n",
      "\n",
      "Logging initialized using configuration in jar:file:/usr/local/apache-hive-1.1.0-bin/lib/hive-common-1.1.0.jar!/hive-log4j.properties\n",
      "Added [/opt/cloudera/parcels/CDH/lib/hive/lib/hive-contrib.jar] to class path\n",
      "Added resources: [/opt/cloudera/parcels/CDH/lib/hive/lib/hive-contrib.jar]\n",
      "Added [/opt/cloudera/parcels/CDH/lib/hive/lib/hive-serde.jar] to class path\n",
      "Added resources: [/opt/cloudera/parcels/CDH/lib/hive/lib/hive-serde.jar]\n",
      "OK\n",
      "Time taken: 2.885 seconds\n",
      "OK\n",
      "Time taken: 0.595 seconds\n",
      "\n",
      "Logging initialized using configuration in jar:file:/usr/local/apache-hive-1.1.0-bin/lib/hive-common-1.1.0.jar!/hive-log4j.properties\n"
     ]
    }
   ],
   "source": [
    "!hive -f create_db.hql\n",
    "!hive -f external_table.hql\n",
    "!hive -f sample.hql\n",
    "!hive -f count.hql\n",
    "!cat result/*|head -1"
   ]
  },
  {
   "cell_type": "code",
   "execution_count": null,
   "metadata": {},
   "outputs": [],
   "source": []
  }
 ],
 "metadata": {
  "kernelspec": {
   "display_name": "Python 2",
   "language": "python",
   "name": "python2"
  },
  "language_info": {
   "codemirror_mode": {
    "name": "ipython",
    "version": 2
   },
   "file_extension": ".py",
   "mimetype": "text/x-python",
   "name": "python",
   "nbconvert_exporter": "python",
   "pygments_lexer": "ipython2",
   "version": "2.7.12"
  }
 },
 "nbformat": 4,
 "nbformat_minor": 2
}
