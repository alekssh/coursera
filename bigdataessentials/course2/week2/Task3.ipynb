{
 "cells": [
  {
   "cell_type": "code",
   "execution_count": 22,
   "metadata": {},
   "outputs": [
    {
     "name": "stdout",
     "output_type": "stream",
     "text": [
      "Overwriting query.hql\n"
     ]
    }
   ],
   "source": [
    "%%writefile query.hql\n",
    "\n",
    "USE stackoverflow_;\n",
    "SELECT age, SUM(question), SUM(answer) FROM\n",
    "(SELECT u.id, u.age, if(p.post_type_id =2, 1, 0) as answer, if(p.post_type_id=1, 1, 0) as question\n",
    "  FROM posts p JOIN users u on p.owner_user_id = u.id WHERE u.age IS NOT NULL) c GROUP BY age ORDER BY age\n"
   ]
  },
  {
   "cell_type": "code",
   "execution_count": 23,
   "metadata": {},
   "outputs": [
    {
     "name": "stdout",
     "output_type": "stream",
     "text": [
      "\n",
      "Logging initialized using configuration in jar:file:/usr/local/apache-hive-1.1.0-bin/lib/hive-common-1.1.0.jar!/hive-log4j.properties\n",
      "OK\n",
      "Time taken: 1.453 seconds\n",
      "Query ID = jovyan_20180106164646_80ba5ea0-b9e8-46ea-839c-e68227287e8b\n",
      "Total jobs = 2\n",
      "Execution log at: /tmp/jovyan/jovyan_20180106164646_80ba5ea0-b9e8-46ea-839c-e68227287e8b.log\n",
      "2018-01-06 04:46:20\tStarting to launch local task to process map join;\tmaximum memory = 477626368\n",
      "2018-01-06 04:46:24\tDump the side-table for tag: 1 with group count: 5951 into file: file:/tmp/jovyan/4778c02b-7192-4d81-94a8-6a0d5ac1dba4/hive_2018-01-06_16-46-05_281_8211756084175884624-1/-local-10005/HashTable-Stage-2/MapJoin-mapfile01--.hashtable\n",
      "2018-01-06 04:46:24\tUploaded 1 File to: file:/tmp/jovyan/4778c02b-7192-4d81-94a8-6a0d5ac1dba4/hive_2018-01-06_16-46-05_281_8211756084175884624-1/-local-10005/HashTable-Stage-2/MapJoin-mapfile01--.hashtable (137665 bytes)\n",
      "2018-01-06 04:46:24\tEnd of local task; Time Taken: 3.679 sec.\n",
      "Execution completed successfully\n",
      "MapredLocal task succeeded\n",
      "Launching Job 1 out of 2\n",
      "Number of reduce tasks not specified. Estimated from input data size: 1\n",
      "In order to change the average load for a reducer (in bytes):\n",
      "  set hive.exec.reducers.bytes.per.reducer=<number>\n",
      "In order to limit the maximum number of reducers:\n",
      "  set hive.exec.reducers.max=<number>\n",
      "In order to set a constant number of reducers:\n",
      "  set mapreduce.job.reduces=<number>\n",
      "Starting Job = job_1515253470371_0009, Tracking URL = http://dacff17b858f:8088/proxy/application_1515253470371_0009/\n",
      "Kill Command = /opt/hadoop/bin/hadoop job  -kill job_1515253470371_0009\n",
      "Hadoop job information for Stage-2: number of mappers: 1; number of reducers: 1\n",
      "2018-01-06 16:46:49,258 Stage-2 map = 0%,  reduce = 0%\n",
      "2018-01-06 16:47:07,330 Stage-2 map = 100%,  reduce = 0%, Cumulative CPU 9.7 sec\n",
      "2018-01-06 16:47:21,269 Stage-2 map = 100%,  reduce = 100%, Cumulative CPU 15.62 sec\n",
      "MapReduce Total cumulative CPU time: 15 seconds 620 msec\n",
      "Ended Job = job_1515253470371_0009\n",
      "Launching Job 2 out of 2\n",
      "Number of reduce tasks determined at compile time: 1\n",
      "In order to change the average load for a reducer (in bytes):\n",
      "  set hive.exec.reducers.bytes.per.reducer=<number>\n",
      "In order to limit the maximum number of reducers:\n",
      "  set hive.exec.reducers.max=<number>\n",
      "In order to set a constant number of reducers:\n",
      "  set mapreduce.job.reduces=<number>\n",
      "Starting Job = job_1515253470371_0010, Tracking URL = http://dacff17b858f:8088/proxy/application_1515253470371_0010/\n",
      "Kill Command = /opt/hadoop/bin/hadoop job  -kill job_1515253470371_0010\n",
      "Hadoop job information for Stage-3: number of mappers: 1; number of reducers: 1\n",
      "2018-01-06 16:47:45,210 Stage-3 map = 0%,  reduce = 0%\n",
      "2018-01-06 16:47:56,887 Stage-3 map = 100%,  reduce = 0%, Cumulative CPU 3.36 sec\n",
      "2018-01-06 16:48:09,555 Stage-3 map = 100%,  reduce = 100%, Cumulative CPU 7.04 sec\n",
      "MapReduce Total cumulative CPU time: 7 seconds 40 msec\n",
      "Ended Job = job_1515253470371_0010\n",
      "MapReduce Jobs Launched: \n",
      "Stage-Stage-2: Map: 1  Reduce: 1   Cumulative CPU: 15.62 sec   HDFS Read: 2260559 HDFS Write: 1056 SUCCESS\n",
      "Stage-Stage-3: Map: 1  Reduce: 1   Cumulative CPU: 7.04 sec   HDFS Read: 5617 HDFS Write: 376 SUCCESS\n",
      "Total MapReduce CPU Time Spent: 22 seconds 660 msec\n",
      "OK\n",
      "14\t1\t0\n",
      "15\t1\t2\n",
      "16\t2\t0\n",
      "17\t0\t1\n",
      "18\t4\t1\n",
      "19\t1\t1\n",
      "20\t0\t2\n",
      "21\t11\t24\n",
      "22\t6\t18\n",
      "23\t12\t15\n",
      "24\t16\t27\n",
      "25\t20\t33\n",
      "26\t23\t44\n",
      "27\t28\t56\n",
      "28\t24\t37\n",
      "29\t24\t66\n",
      "30\t26\t67\n",
      "31\t17\t33\n",
      "32\t13\t48\n",
      "33\t11\t40\n",
      "34\t24\t36\n",
      "35\t12\t42\n",
      "36\t8\t64\n",
      "37\t9\t35\n",
      "38\t6\t17\n",
      "39\t3\t7\n",
      "40\t1\t13\n",
      "41\t5\t20\n",
      "42\t5\t22\n",
      "43\t2\t26\n",
      "44\t7\t35\n",
      "45\t1\t4\n",
      "46\t7\t9\n",
      "47\t1\t1\n",
      "48\t1\t1\n",
      "49\t1\t26\n",
      "50\t1\t26\n",
      "51\t4\t5\n",
      "52\t0\t2\n",
      "53\t0\t2\n",
      "54\t0\t1\n",
      "57\t0\t3\n",
      "58\t1\t57\n",
      "60\t0\t6\n",
      "61\t0\t3\n",
      "64\t2\t1\n",
      "86\t0\t1\n",
      "96\t3\t1\n",
      "Time taken: 126.605 seconds, Fetched: 48 row(s)\n"
     ]
    }
   ],
   "source": [
    "!hive -f query.hql\n"
   ]
  },
  {
   "cell_type": "code",
   "execution_count": null,
   "metadata": {},
   "outputs": [],
   "source": []
  }
 ],
 "metadata": {
  "kernelspec": {
   "display_name": "Python 3",
   "language": "python",
   "name": "python3"
  },
  "language_info": {
   "codemirror_mode": {
    "name": "ipython",
    "version": 3
   },
   "file_extension": ".py",
   "mimetype": "text/x-python",
   "name": "python",
   "nbconvert_exporter": "python",
   "pygments_lexer": "ipython3",
   "version": "3.6.2"
  }
 },
 "nbformat": 4,
 "nbformat_minor": 2
}
