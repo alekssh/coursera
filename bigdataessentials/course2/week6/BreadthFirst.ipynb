{
 "cells": [
  {
   "cell_type": "code",
   "execution_count": 44,
   "metadata": {},
   "outputs": [],
   "source": [
    "from pyspark.sql.types import StructType, StructField, IntegerType\n",
    "import pyspark.sql.functions as f"
   ]
  },
  {
   "cell_type": "code",
   "execution_count": 45,
   "metadata": {},
   "outputs": [],
   "source": [
    "from pyspark.sql import SparkSession\n",
    "spark = SparkSession.builder.enableHiveSupport().master(\"local[2]\").getOrCreate()"
   ]
  },
  {
   "cell_type": "code",
   "execution_count": 46,
   "metadata": {},
   "outputs": [],
   "source": [
    "graph_schema = StructType([\n",
    "    StructField(\"to_v\", IntegerType(), False),\n",
    "    StructField(\"from_v\", IntegerType(), False)\n",
    "])"
   ]
  },
  {
   "cell_type": "code",
   "execution_count": 47,
   "metadata": {},
   "outputs": [],
   "source": [
    "dist_schema = StructType([\n",
    "    StructField(\"vertex\", IntegerType(), False),\n",
    "    StructField(\"distance\", IntegerType(), False)\n",
    "])"
   ]
  },
  {
   "cell_type": "code",
   "execution_count": 103,
   "metadata": {},
   "outputs": [],
   "source": [
    "def shortest_path(v_from, v_to, dataset_path=None):\n",
    "    \n",
    "    edges = spark.read.csv(dataset_path, sep=\"\\t\", schema=graph_schema)       \n",
    "    edges.cache()\n",
    "    \n",
    "    dist = spark.createDataFrame(spark.sparkContext.parallelize([(v_from, 0)]), dist_schema)\n",
    "    result = dist\n",
    "    d = 0\n",
    "    while True:\n",
    "        \n",
    "        candidates = dist.join(edges, dist.vertex==edges.from_v).select(edges.to_v.alias(\"vertex\"), (dist.distance+1).alias(\"distance\"))                  \n",
    "    \n",
    "        result = dist.join(candidates, on=\"vertex\", how=\"full_outer\")\\\n",
    "        .select(\"vertex\", f.when(dist.distance.isNotNull(), dist.distance).otherwise(candidates.distance).alias(\"distance\"))        \n",
    "       \n",
    "        new_v = result.where(result.distance==d+1).count()\n",
    "        \n",
    "        if  new_v> 0:\n",
    "            d += 1\n",
    "            dist = candidates\n",
    "            print(\"d = \", d, \"count = \", new_v)\n",
    "        else:\n",
    "            break                    \n",
    "\n",
    "    return result.select(result.distance).where(result.vertex == v_to).collect()[0][\"distance\"]    \n",
    "        "
   ]
  },
  {
   "cell_type": "code",
   "execution_count": 104,
   "metadata": {},
   "outputs": [
    {
     "name": "stdout",
     "output_type": "stream",
     "text": [
      "('d = ', 1, 'count = ', 4)\n",
      "('d = ', 2, 'count = ', 4)\n",
      "('d = ', 3, 'count = ', 14)\n",
      "('d = ', 4, 'count = ', 23)\n",
      "('d = ', 5, 'count = ', 52)\n",
      "('d = ', 6, 'count = ', 62)\n",
      "('d = ', 7, 'count = ', 56)\n",
      "('d = ', 8, 'count = ', 38)\n",
      "8\n"
     ]
    }
   ],
   "source": [
    "print shortest_path(12, 34, \"/data/twitter/twitter_sample2.txt\")"
   ]
  },
  {
   "cell_type": "code",
   "execution_count": 8,
   "metadata": {},
   "outputs": [
    {
     "name": "stdout",
     "output_type": "stream",
     "text": [
      "12\t18\r\n",
      "12\t41\r\n",
      "12\t57\r\n",
      "12\t62\r\n",
      "12\t235\r\n",
      "12\t278\r\n",
      "12\t291\r\n",
      "12\t338\r\n",
      "12\t456\r\n",
      "12\t614\r\n"
     ]
    }
   ],
   "source": [
    "!head /data/twitter/twitter_sample2.txt"
   ]
  },
  {
   "cell_type": "code",
   "execution_count": null,
   "metadata": {},
   "outputs": [],
   "source": []
  }
 ],
 "metadata": {
  "kernelspec": {
   "display_name": "Python 2",
   "language": "python",
   "name": "python2"
  },
  "language_info": {
   "codemirror_mode": {
    "name": "ipython",
    "version": 2
   },
   "file_extension": ".py",
   "mimetype": "text/x-python",
   "name": "python",
   "nbconvert_exporter": "python",
   "pygments_lexer": "ipython2",
   "version": "2.7.12"
  }
 },
 "nbformat": 4,
 "nbformat_minor": 2
}
