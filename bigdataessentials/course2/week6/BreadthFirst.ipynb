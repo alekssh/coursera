{
 "cells": [
  {
   "cell_type": "code",
   "execution_count": 1,
   "metadata": {},
   "outputs": [],
   "source": [
    "from pyspark.sql.types import StructType, StructField, IntegerType\n",
    "import pyspark.sql.functions as f"
   ]
  },
  {
   "cell_type": "code",
   "execution_count": 2,
   "metadata": {},
   "outputs": [],
   "source": [
    "from pyspark.sql import SparkSession\n",
    "spark = SparkSession.builder.enableHiveSupport().master(\"local[2]\").getOrCreate()"
   ]
  },
  {
   "cell_type": "code",
   "execution_count": 3,
   "metadata": {},
   "outputs": [],
   "source": [
    "graph_schema = StructType([\n",
    "    StructField(\"to_v\", IntegerType(), False),\n",
    "    StructField(\"from_v\", IntegerType(), False)\n",
    "])"
   ]
  },
  {
   "cell_type": "code",
   "execution_count": 4,
   "metadata": {},
   "outputs": [],
   "source": [
    "dist_schema = StructType([\n",
    "    StructField(\"vertex\", IntegerType(), False),\n",
    "    StructField(\"distance\", IntegerType(), False)\n",
    "])"
   ]
  },
  {
   "cell_type": "code",
   "execution_count": 7,
   "metadata": {},
   "outputs": [],
   "source": [
    "def shortest_path(v_from, v_to, dataset_path=None):\n",
    "    \n",
    "    edges = spark.read.csv(dataset_path, sep=\"\\t\", schema=graph_schema)       \n",
    "    edges.cache()\n",
    "    \n",
    "    dist = spark.createDataFrame(spark.sparkContext.parallelize([(v_from, 0)]), dist_schema)\n",
    "    result = dist\n",
    "    d = 0\n",
    "    while True:\n",
    "        \n",
    "        candidates = dist.join(edges, dist.vertex==edges.from_v).select(edges.to_v.alias(\"vertex\"), (dist.distance+1).alias(\"distance\"))                  \n",
    "        candidates.cache()\n",
    "        \n",
    "        result = dist.join(candidates, on=\"vertex\", how=\"full_outer\")\\\n",
    "        .select(\"vertex\", f.when(dist.distance.isNotNull(), dist.distance).otherwise(candidates.distance).alias(\"distance\"))               \n",
    "        \n",
    "        \n",
    "        target = result.select(result.distance).where(result.vertex == v_to).collect()        \n",
    "        \n",
    "        if  target:\n",
    "            return target[0][\"distance\"] \n",
    "            \n",
    "        else:\n",
    "            new_v = result.where(result.distance==d+1).count()\n",
    "            if new_v > 0:\n",
    "                d += 1            \n",
    "                dist = candidates\n",
    "            else:\n",
    "                break                    \n",
    "\n",
    "    return    \n",
    "        "
   ]
  },
  {
   "cell_type": "code",
   "execution_count": 8,
   "metadata": {},
   "outputs": [
    {
     "name": "stdout",
     "output_type": "stream",
     "text": [
      "8\n"
     ]
    }
   ],
   "source": [
    "print shortest_path(12, 34, \"/data/twitter/twitter_sample2.txt\")"
   ]
  },
  {
   "cell_type": "code",
   "execution_count": null,
   "metadata": {},
   "outputs": [],
   "source": []
  }
 ],
 "metadata": {
  "kernelspec": {
   "display_name": "Python 2",
   "language": "python",
   "name": "python2"
  },
  "language_info": {
   "codemirror_mode": {
    "name": "ipython",
    "version": 2
   },
   "file_extension": ".py",
   "mimetype": "text/x-python",
   "name": "python",
   "nbconvert_exporter": "python",
   "pygments_lexer": "ipython2",
   "version": "2.7.12"
  }
 },
 "nbformat": 4,
 "nbformat_minor": 2
}
