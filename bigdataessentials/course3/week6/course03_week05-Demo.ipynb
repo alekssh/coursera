{
 "cells": [
  {
   "cell_type": "markdown",
   "metadata": {},
   "source": [
    "# Collaborative filtering recommender system"
   ]
  },
  {
   "cell_type": "markdown",
   "metadata": {},
   "source": [
    "## Dataset description"
   ]
  },
  {
   "cell_type": "markdown",
   "metadata": {},
   "source": [
    "In this assignment you will use Apache Spark to build simple movie recommendation system on big MovieLens 20M dataset (https://grouplens.org/datasets/movielens/). The dataset contains 20 million ratings for 27000 movies given by 138000 users. "
   ]
  },
  {
   "cell_type": "markdown",
   "metadata": {},
   "source": [
    "Dataset format: comma-separated values (https://en.wikipedia.org/wiki/CSV)\n",
    "\n",
    "The first line is a header:\n",
    "userId,movieId,rating,timestamp\n",
    "\n",
    "_userId_, _movieId_ are integers representing user and movies identifiers correspondingly\n",
    "\n",
    "_rating_ is a floating point number from 1.0 to 5.0\n",
    "\n",
    "_timestamp_ is an integer but it won’t be used in the assignment :)"
   ]
  },
  {
   "cell_type": "markdown",
   "metadata": {},
   "source": [
    "## Reading dataset"
   ]
  },
  {
   "cell_type": "markdown",
   "metadata": {},
   "source": [
    "Init spark session"
   ]
  },
  {
   "cell_type": "code",
   "execution_count": 12,
   "metadata": {},
   "outputs": [],
   "source": [
    "from pyspark.sql import SparkSession\n",
    "\n",
    "spark_session = SparkSession.builder \\\n",
    "    .enableHiveSupport() \\\n",
    "    .appName(\"recSys\")\\\n",
    "    .master(\"local[8]\")\\\n",
    "    .getOrCreate()\n",
    "sc = spark_session.sparkContext"
   ]
  },
  {
   "cell_type": "code",
   "execution_count": 13,
   "metadata": {},
   "outputs": [],
   "source": [
    "df = spark_session.read.option(\"inferSchema\", \"true\").csv(\"/data/movielens/ratings_100k.csv\", header=True)\n"
   ]
  },
  {
   "cell_type": "markdown",
   "metadata": {},
   "source": [
    "In this assignment you will use collaborative filtering approach for making predictions. To find latent vector representation for users and items we suggest you to use explicit ALS method. Refer to the Spark MLLib documentation for Python API details: https://spark.apache.org/docs/2.1.0/api/python/pyspark.mllib.html"
   ]
  },
  {
   "cell_type": "markdown",
   "metadata": {},
   "source": [
    "Split dataset into three folds: on each iteration one fold will be used for testing and the other two folds will be used for training. Wrap necessary values with _Rating_ class."
   ]
  },
  {
   "cell_type": "code",
   "execution_count": 14,
   "metadata": {},
   "outputs": [],
   "source": [
    "from pyspark.mllib.recommendation import Rating\n",
    "\n",
    "fold_count = 3"
   ]
  },
  {
   "cell_type": "code",
   "execution_count": 15,
   "metadata": {},
   "outputs": [],
   "source": [
    "ratings = df.rdd.map(lambda row : Rating(row[0],row[1],row[2]))\n",
    "\n",
    "r_array = ratings.randomSplit([0.33,0.33,0.34])\n"
   ]
  },
  {
   "cell_type": "markdown",
   "metadata": {},
   "source": [
    "Recommendations: to make your solution more efficient prepare RDDs for all the folds beforehand running the training process."
   ]
  },
  {
   "cell_type": "markdown",
   "metadata": {},
   "source": [
    "## Training ALS model"
   ]
  },
  {
   "cell_type": "markdown",
   "metadata": {},
   "source": [
    "Now it is time to choose training parameters. It is recommended to set the rank equal to 20,\n",
    "regularization term lambda equal to 0.01 and the number of iterations equal to 5.\n",
    "Feel free to experiment and choose your own parameters to see how they influence the final score."
   ]
  },
  {
   "cell_type": "code",
   "execution_count": 16,
   "metadata": {},
   "outputs": [],
   "source": [
    "rank = 20\n",
    "iterations = 5\n",
    "lambda_ = 0.02"
   ]
  },
  {
   "cell_type": "markdown",
   "metadata": {},
   "source": [
    "Train the explicit ALS model on two of three folds and evaluate its performance on remaining test fold. Performance evaluation should be done using the classic RMSE metric."
   ]
  },
  {
   "cell_type": "code",
   "execution_count": 22,
   "metadata": {},
   "outputs": [],
   "source": [
    "scores = 0"
   ]
  },
  {
   "cell_type": "code",
   "execution_count": 23,
   "metadata": {},
   "outputs": [],
   "source": [
    "from pyspark.mllib.recommendation import ALS"
   ]
  },
  {
   "cell_type": "code",
   "execution_count": 24,
   "metadata": {},
   "outputs": [],
   "source": [
    "fold_count = 3\n",
    "\n",
    "for test_fold_index in range(fold_count):\n",
    "    \n",
    "    train_index_1 = (test_fold_index+1)%fold_count\n",
    "    train_index_2 = (test_fold_index+2)%fold_count    \n",
    "    \n",
    "    test_data = r_array[test_fold_index]\n",
    "    train_data = r_array[train_index_1].union(r_array[train_index_2])\n",
    "    \n",
    "    model  = ALS.train(train_data, rank, iterations, lambda_)\n",
    "    \n",
    "    predictions = model.predictAll(test_data.map(lambda r : (r[0],r[1])))\n",
    "    \n",
    "    ratesAndPreds = predictions.map(lambda r : ((r[0],r[1]), r[2])).join(test_data.map(lambda r : ((r[0],r[1]), r[2]))).values()\n",
    "                                          \n",
    "    rmse = (ratesAndPreds.map(lambda r: (r[0] - r[1])**2).mean())**0.5\n",
    "                                    \n",
    "    scores += rmse\n",
    "                                                                              \n",
    "    \n",
    "score = scores/fold_count "
   ]
  },
  {
   "cell_type": "markdown",
   "metadata": {},
   "source": [
    "Average RMSE scores on all the three folds and output the result to stdout.\n",
    "You could refer to publicly available benchmarks (e.g. http://mymedialite.net/examples/datasets.html)\n",
    "to find out what score to expect."
   ]
  },
  {
   "cell_type": "code",
   "execution_count": 26,
   "metadata": {},
   "outputs": [
    {
     "data": {
      "text/plain": [
       "1.2985392814732692"
      ]
     },
     "execution_count": 26,
     "metadata": {},
     "output_type": "execute_result"
    }
   ],
   "source": [
    "score"
   ]
  },
  {
   "cell_type": "code",
   "execution_count": null,
   "metadata": {},
   "outputs": [],
   "source": []
  }
 ],
 "metadata": {
  "kernelspec": {
   "display_name": "Python 3",
   "language": "python",
   "name": "python3"
  },
  "language_info": {
   "codemirror_mode": {
    "name": "ipython",
    "version": 3
   },
   "file_extension": ".py",
   "mimetype": "text/x-python",
   "name": "python",
   "nbconvert_exporter": "python",
   "pygments_lexer": "ipython3",
   "version": "3.6.2"
  }
 },
 "nbformat": 4,
 "nbformat_minor": 1
}
