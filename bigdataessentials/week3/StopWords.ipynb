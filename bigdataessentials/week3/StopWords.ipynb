{
 "cells": [
  {
   "cell_type": "code",
   "execution_count": 11,
   "metadata": {},
   "outputs": [
    {
     "name": "stdout",
     "output_type": "stream",
     "text": [
      "Overwriting mapper.py\n"
     ]
    }
   ],
   "source": [
    "%%writefile mapper.py\n",
    "\n",
    "import sys\n",
    "import re\n",
    "\n",
    "reload(sys)\n",
    "sys.setdefaultencoding('utf-8') # required to convert to unicode\n",
    "\n",
    "stopWords = set(word.strip().lower() for word in open(\"stop_words_en.txt\"))\n",
    "\n",
    "for line in sys.stdin:\n",
    "    try:\n",
    "        article_id, text = unicode(line.strip()).split('\\t', 1)\n",
    "    except ValueError as e:\n",
    "        continue\n",
    "    words = re.split(\"\\W*\\s+\\W*\", text, flags=re.UNICODE)\n",
    "    for word in words:\n",
    "        word = word.lower()\n",
    "        print >> sys.stderr, \"reporter:counter:Wiki stats,Total words,%d\" % 1\n",
    "        print \"%s\\t%d\" % (\"total\", 1)\n",
    "        if word in stopWords:\n",
    "            print >> sys.stderr, \"reporter:counter:Wiki stats,Stop words,%d\" % 1\n",
    "            print \"%s\\t%d\" % (\"stop\", 1)\n",
    "        "
   ]
  },
  {
   "cell_type": "code",
   "execution_count": 57,
   "metadata": {},
   "outputs": [
    {
     "name": "stdout",
     "output_type": "stream",
     "text": [
      "Overwriting reducer.py\n"
     ]
    }
   ],
   "source": [
    "%%writefile reducer.py\n",
    "\n",
    "import sys\n",
    "import collections\n",
    "\n",
    "counter = collections.Counter()\n",
    "\n",
    "for line in sys.stdin:\n",
    "    try:\n",
    "        key, count = line.strip().split('\\t', 1)\n",
    "        count = int(count)\n",
    "    except ValueError as e:\n",
    "        continue\n",
    "    counter[key] += count\n",
    "    \n",
    "if counter[\"total\"] > 0:\n",
    "    print \"%f\" % (100.0*counter[\"stop\"]/counter[\"total\"])"
   ]
  },
  {
   "cell_type": "code",
   "execution_count": 58,
   "metadata": {},
   "outputs": [
    {
     "name": "stdout",
     "output_type": "stream",
     "text": [
      "319 /datasets/stop_words_en.txt\r\n"
     ]
    }
   ],
   "source": [
    "! wc -l /datasets/stop_words_en.txt\n"
   ]
  },
  {
   "cell_type": "code",
   "execution_count": 59,
   "metadata": {},
   "outputs": [
    {
     "name": "stdout",
     "output_type": "stream",
     "text": [
      "41.602622\t\n"
     ]
    },
    {
     "name": "stderr",
     "output_type": "stream",
     "text": [
      "17/11/23 18:31:19 INFO client.RMProxy: Connecting to ResourceManager at /0.0.0.0:8032\n",
      "17/11/23 18:31:19 INFO client.RMProxy: Connecting to ResourceManager at /0.0.0.0:8032\n",
      "17/11/23 18:31:20 INFO mapred.FileInputFormat: Total input files to process : 1\n",
      "17/11/23 18:31:20 INFO mapreduce.JobSubmitter: number of splits:2\n",
      "17/11/23 18:31:20 INFO mapreduce.JobSubmitter: Submitting tokens for job: job_1511394121436_0025\n",
      "17/11/23 18:31:20 INFO impl.YarnClientImpl: Submitted application application_1511394121436_0025\n",
      "17/11/23 18:31:20 INFO mapreduce.Job: The url to track the job: http://be195d52a7ef:8088/proxy/application_1511394121436_0025/\n",
      "17/11/23 18:31:20 INFO mapreduce.Job: Running job: job_1511394121436_0025\n",
      "17/11/23 18:31:26 INFO mapreduce.Job: Job job_1511394121436_0025 running in uber mode : false\n",
      "17/11/23 18:31:26 INFO mapreduce.Job:  map 0% reduce 0%\n",
      "17/11/23 18:31:42 INFO mapreduce.Job:  map 25% reduce 0%\n",
      "17/11/23 18:31:48 INFO mapreduce.Job:  map 37% reduce 0%\n",
      "17/11/23 18:31:54 INFO mapreduce.Job:  map 50% reduce 0%\n",
      "17/11/23 18:32:00 INFO mapreduce.Job:  map 62% reduce 0%\n",
      "17/11/23 18:32:06 INFO mapreduce.Job:  map 88% reduce 0%\n",
      "17/11/23 18:32:07 INFO mapreduce.Job:  map 91% reduce 0%\n",
      "17/11/23 18:32:08 INFO mapreduce.Job:  map 100% reduce 0%\n",
      "17/11/23 18:32:23 INFO mapreduce.Job:  map 100% reduce 76%\n",
      "17/11/23 18:32:47 INFO mapreduce.Job:  map 100% reduce 100%\n",
      "17/11/23 18:32:47 INFO mapreduce.Job: Job job_1511394121436_0025 completed successfully\n",
      "17/11/23 18:32:47 INFO mapreduce.Job: Counters: 51\n",
      "\tFile System Counters\n",
      "\t\tFILE: Number of bytes read=328140246\n",
      "\t\tFILE: Number of bytes written=492629690\n",
      "\t\tFILE: Number of read operations=0\n",
      "\t\tFILE: Number of large read operations=0\n",
      "\t\tFILE: Number of write operations=0\n",
      "\t\tHDFS: Number of bytes read=76874501\n",
      "\t\tHDFS: Number of bytes written=11\n",
      "\t\tHDFS: Number of read operations=9\n",
      "\t\tHDFS: Number of large read operations=0\n",
      "\t\tHDFS: Number of write operations=2\n",
      "\tJob Counters \n",
      "\t\tLaunched map tasks=2\n",
      "\t\tLaunched reduce tasks=1\n",
      "\t\tData-local map tasks=2\n",
      "\t\tTotal time spent by all maps in occupied slots (ms)=79067\n",
      "\t\tTotal time spent by all reduces in occupied slots (ms)=37663\n",
      "\t\tTotal time spent by all map tasks (ms)=79067\n",
      "\t\tTotal time spent by all reduce tasks (ms)=37663\n",
      "\t\tTotal vcore-milliseconds taken by all map tasks=79067\n",
      "\t\tTotal vcore-milliseconds taken by all reduce tasks=37663\n",
      "\t\tTotal megabyte-milliseconds taken by all map tasks=80964608\n",
      "\t\tTotal megabyte-milliseconds taken by all reduce tasks=38566912\n",
      "\tMap-Reduce Framework\n",
      "\t\tMap input records=4100\n",
      "\t\tMap output records=16903636\n",
      "\t\tMap output bytes=130262827\n",
      "\t\tMap output materialized bytes=164070111\n",
      "\t\tInput split bytes=228\n",
      "\t\tCombine input records=0\n",
      "\t\tCombine output records=0\n",
      "\t\tReduce input groups=2\n",
      "\t\tReduce shuffle bytes=164070111\n",
      "\t\tReduce input records=16903636\n",
      "\t\tReduce output records=1\n",
      "\t\tSpilled Records=50710908\n",
      "\t\tShuffled Maps =2\n",
      "\t\tFailed Shuffles=0\n",
      "\t\tMerged Map outputs=2\n",
      "\t\tGC time elapsed (ms)=1439\n",
      "\t\tCPU time spent (ms)=182200\n",
      "\t\tPhysical memory (bytes) snapshot=811917312\n",
      "\t\tVirtual memory (bytes) snapshot=6046859264\n",
      "\t\tTotal committed heap usage (bytes)=571473920\n",
      "\tShuffle Errors\n",
      "\t\tBAD_ID=0\n",
      "\t\tCONNECTION=0\n",
      "\t\tIO_ERROR=0\n",
      "\t\tWRONG_LENGTH=0\n",
      "\t\tWRONG_MAP=0\n",
      "\t\tWRONG_REDUCE=0\n",
      "\tWiki stats\n",
      "\t\tStop words=4966261\n",
      "\t\tTotal words=11937375\n",
      "\tFile Input Format Counters \n",
      "\t\tBytes Read=76874273\n",
      "\tFile Output Format Counters \n",
      "\t\tBytes Written=11\n",
      "17/11/23 18:32:47 INFO streaming.StreamJob: Output directory: stopwords_result\n"
     ]
    }
   ],
   "source": [
    "%%bash\n",
    "\n",
    "OUT_DIR=\"stopwords_result\"\n",
    "NUM_REDUCERS=1\n",
    "\n",
    "hdfs dfs -rm -r -skipTrash ${OUT_DIR} > /dev/null\n",
    "\n",
    "yarn jar /opt/cloudera/parcels/CDH/lib/hadoop-mapreduce/hadoop-streaming.jar \\\n",
    "    -D mapreduce.job.name=\"Streaming StopWords\" \\\n",
    "    -D mapreduce.job.reduces=${NUM_REDUCERS} \\\n",
    "    -files mapper.py,reducer.py,/datasets/stop_words_en.txt \\\n",
    "    -mapper \"python mapper.py\" \\\n",
    "    -reducer \"python reducer.py\" \\\n",
    "    -input /data/wiki/en_articles_part \\\n",
    "    -output ${OUT_DIR} > /dev/null\n",
    "\n",
    "hdfs dfs -cat ${OUT_DIR}/part-00000 | head"
   ]
  },
  {
   "cell_type": "code",
   "execution_count": null,
   "metadata": {},
   "outputs": [],
   "source": []
  }
 ],
 "metadata": {
  "kernelspec": {
   "display_name": "Python 2",
   "language": "python",
   "name": "python2"
  },
  "language_info": {
   "codemirror_mode": {
    "name": "ipython",
    "version": 2
   },
   "file_extension": ".py",
   "mimetype": "text/x-python",
   "name": "python",
   "nbconvert_exporter": "python",
   "pygments_lexer": "ipython2",
   "version": "2.7.12"
  }
 },
 "nbformat": 4,
 "nbformat_minor": 2
}
