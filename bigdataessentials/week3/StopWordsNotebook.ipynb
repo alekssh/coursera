{
 "cells": [
  {
   "cell_type": "code",
   "execution_count": 105,
   "metadata": {},
   "outputs": [
    {
     "name": "stdout",
     "output_type": "stream",
     "text": [
      "Overwriting mapper.py\n"
     ]
    }
   ],
   "source": [
    "%%writefile mapper.py\n",
    "\n",
    "import sys\n",
    "import re\n",
    "\n",
    "reload(sys)\n",
    "sys.setdefaultencoding('utf-8') # required to convert to unicode\n",
    "\n",
    "stopWords = set(word.strip().lower() for word in open(\"stop_words_en.txt\"))\n",
    "\n",
    "for line in sys.stdin:\n",
    "    try:\n",
    "        article_id, text = unicode(line.strip()).split('\\t', 1)\n",
    "    except ValueError as e:\n",
    "        continue\n",
    "    words = re.split(\"\\W*\\s+\\W*\", text, flags=re.UNICODE)\n",
    "    for word in words:\n",
    "        word = word.lower()\n",
    "        print >> sys.stderr, \"reporter:counter:Wiki stats,Total words,%d\" % 1\n",
    "        if word in stopWords:\n",
    "            print >> sys.stderr, \"reporter:counter:Wiki stats,Stop words,%d\" % 1\n",
    "        print \"%s\\t%d\" % (word, 1)"
   ]
  },
  {
   "cell_type": "code",
   "execution_count": null,
   "metadata": {},
   "outputs": [],
   "source": [
    "%%writefile reducer.py\n",
    "\n",
    "import sys\n",
    "\n",
    "current_key = None\n",
    "word_sum = 0"
   ]
  },
  {
   "cell_type": "code",
   "execution_count": null,
   "metadata": {},
   "outputs": [],
   "source": [
    "%%writefile -a reducer.py\n",
    "\n",
    "for line in sys.stdin:\n",
    "    try:\n",
    "        key, count = line.strip().split('\\t', 1)\n",
    "        count = int(count)\n",
    "    except ValueError as e:\n",
    "        continue\n",
    "    if current_key != key:\n",
    "        if current_key:\n",
    "            print \"%s\\t%d\" % (current_key, word_sum)\n",
    "        word_sum = 0\n",
    "        current_key = key\n",
    "    word_sum += count\n",
    "\n",
    "if current_key:\n",
    "    print \"%s\\t%d\" % (current_key, word_sum)"
   ]
  },
  {
   "cell_type": "code",
   "execution_count": 25,
   "metadata": {},
   "outputs": [
    {
     "name": "stdout",
     "output_type": "stream",
     "text": [
      "Found 1 items\r\n",
      "drwxrwxrwx   - jovyan supergroup          0 2017-10-17 13:15 /data/wiki/en_articles_part\r\n"
     ]
    }
   ],
   "source": [
    "! hdfs dfs -ls /data/wiki"
   ]
  },
  {
   "cell_type": "code",
   "execution_count": 106,
   "metadata": {},
   "outputs": [
    {
     "name": "stdout",
     "output_type": "stream",
     "text": [
      "0%however\t1\n",
      "0&\\mathrm{if\t1\n",
      "0(8)320-1234\t1\n",
      "0)).(1\t2\n",
      "0,03\t1\n",
      "0,1,...,n\t1\n",
      "0,1,0\t1\n",
      "0,1,\\dots,n\t1\n",
      "0,5\t1\n",
      "0,50\t1\n"
     ]
    },
    {
     "name": "stderr",
     "output_type": "stream",
     "text": [
      "17/11/23 14:19:43 INFO client.RMProxy: Connecting to ResourceManager at /0.0.0.0:8032\n",
      "17/11/23 14:19:43 INFO client.RMProxy: Connecting to ResourceManager at /0.0.0.0:8032\n",
      "17/11/23 14:19:44 INFO mapred.FileInputFormat: Total input files to process : 1\n",
      "17/11/23 14:19:44 INFO mapreduce.JobSubmitter: number of splits:2\n",
      "17/11/23 14:19:44 INFO mapreduce.JobSubmitter: Submitting tokens for job: job_1511436559166_0054\n",
      "17/11/23 14:19:44 INFO impl.YarnClientImpl: Submitted application application_1511436559166_0054\n",
      "17/11/23 14:19:44 INFO mapreduce.Job: The url to track the job: http://dded3576db44:8088/proxy/application_1511436559166_0054/\n",
      "17/11/23 14:19:44 INFO mapreduce.Job: Running job: job_1511436559166_0054\n",
      "17/11/23 14:19:49 INFO mapreduce.Job: Job job_1511436559166_0054 running in uber mode : false\n",
      "17/11/23 14:19:49 INFO mapreduce.Job:  map 0% reduce 0%\n",
      "17/11/23 14:20:05 INFO mapreduce.Job:  map 23% reduce 0%\n",
      "17/11/23 14:20:11 INFO mapreduce.Job:  map 34% reduce 0%\n",
      "17/11/23 14:20:17 INFO mapreduce.Job:  map 43% reduce 0%\n",
      "17/11/23 14:20:23 INFO mapreduce.Job:  map 48% reduce 0%\n",
      "17/11/23 14:20:29 INFO mapreduce.Job:  map 60% reduce 0%\n",
      "17/11/23 14:20:35 INFO mapreduce.Job:  map 67% reduce 0%\n",
      "17/11/23 14:20:37 INFO mapreduce.Job:  map 83% reduce 0%\n",
      "17/11/23 14:20:39 INFO mapreduce.Job:  map 100% reduce 0%\n",
      "17/11/23 14:20:43 INFO mapreduce.Job:  map 100% reduce 13%\n",
      "17/11/23 14:20:46 INFO mapreduce.Job:  map 100% reduce 25%\n",
      "17/11/23 14:20:48 INFO mapreduce.Job:  map 100% reduce 38%\n",
      "17/11/23 14:20:52 INFO mapreduce.Job:  map 100% reduce 50%\n",
      "17/11/23 14:20:53 INFO mapreduce.Job:  map 100% reduce 75%\n",
      "17/11/23 14:20:54 INFO mapreduce.Job:  map 100% reduce 100%\n",
      "17/11/23 14:20:55 INFO mapreduce.Job: Job job_1511436559166_0054 completed successfully\n",
      "17/11/23 14:20:55 INFO mapreduce.Job: Counters: 52\n",
      "\tFile System Counters\n",
      "\t\tFILE: Number of bytes read=17954826\n",
      "\t\tFILE: Number of bytes written=28260963\n",
      "\t\tFILE: Number of read operations=0\n",
      "\t\tFILE: Number of large read operations=0\n",
      "\t\tFILE: Number of write operations=0\n",
      "\t\tHDFS: Number of bytes read=76874501\n",
      "\t\tHDFS: Number of bytes written=5370513\n",
      "\t\tHDFS: Number of read operations=30\n",
      "\t\tHDFS: Number of large read operations=0\n",
      "\t\tHDFS: Number of write operations=16\n",
      "\tJob Counters \n",
      "\t\tKilled reduce tasks=1\n",
      "\t\tLaunched map tasks=2\n",
      "\t\tLaunched reduce tasks=8\n",
      "\t\tData-local map tasks=2\n",
      "\t\tTotal time spent by all maps in occupied slots (ms)=93796\n",
      "\t\tTotal time spent by all reduces in occupied slots (ms)=53116\n",
      "\t\tTotal time spent by all map tasks (ms)=93796\n",
      "\t\tTotal time spent by all reduce tasks (ms)=53116\n",
      "\t\tTotal vcore-milliseconds taken by all map tasks=93796\n",
      "\t\tTotal vcore-milliseconds taken by all reduce tasks=53116\n",
      "\t\tTotal megabyte-milliseconds taken by all map tasks=96047104\n",
      "\t\tTotal megabyte-milliseconds taken by all reduce tasks=54390784\n",
      "\tMap-Reduce Framework\n",
      "\t\tMap input records=4100\n",
      "\t\tMap output records=11937375\n",
      "\t\tMap output bytes=97842436\n",
      "\t\tMap output materialized bytes=8952763\n",
      "\t\tInput split bytes=228\n",
      "\t\tCombine input records=11937375\n",
      "\t\tCombine output records=640011\n",
      "\t\tReduce input groups=427175\n",
      "\t\tReduce shuffle bytes=8952763\n",
      "\t\tReduce input records=640011\n",
      "\t\tReduce output records=427175\n",
      "\t\tSpilled Records=1920033\n",
      "\t\tShuffled Maps =16\n",
      "\t\tFailed Shuffles=0\n",
      "\t\tMerged Map outputs=16\n",
      "\t\tGC time elapsed (ms)=1759\n",
      "\t\tCPU time spent (ms)=137790\n",
      "\t\tPhysical memory (bytes) snapshot=2004652032\n",
      "\t\tVirtual memory (bytes) snapshot=19666337792\n",
      "\t\tTotal committed heap usage (bytes)=1315438592\n",
      "\tShuffle Errors\n",
      "\t\tBAD_ID=0\n",
      "\t\tCONNECTION=0\n",
      "\t\tIO_ERROR=0\n",
      "\t\tWRONG_LENGTH=0\n",
      "\t\tWRONG_MAP=0\n",
      "\t\tWRONG_REDUCE=0\n",
      "\tWiki stats\n",
      "\t\tStop words=4966261\n",
      "\t\tTotal words=11937375\n",
      "\tFile Input Format Counters \n",
      "\t\tBytes Read=76874273\n",
      "\tFile Output Format Counters \n",
      "\t\tBytes Written=5370513\n",
      "17/11/23 14:20:55 INFO streaming.StreamJob: Output directory: wordcount_result\n",
      "cat: Unable to write to output stream.\n"
     ]
    }
   ],
   "source": [
    "%%bash\n",
    "\n",
    "OUT_DIR=\"wordcount_result\"\n",
    "NUM_REDUCERS=8\n",
    "\n",
    "hdfs dfs -rm -r -skipTrash ${OUT_DIR} > /dev/null\n",
    "\n",
    "yarn jar /opt/cloudera/parcels/CDH/lib/hadoop-mapreduce/hadoop-streaming.jar \\\n",
    "    -D mapred.jab.name=\"Streaming wordCount\" \\\n",
    "    -D mapreduce.job.reduces=${NUM_REDUCERS} \\\n",
    "    -files mapper.py,reducer.py,/datasets/stop_words_en.txt \\\n",
    "    -mapper \"python mapper.py\" \\\n",
    "    -combiner \"python reducer.py\" \\\n",
    "    -reducer \"python reducer.py\" \\\n",
    "    -input /data/wiki/en_articles_part \\\n",
    "    -output ${OUT_DIR} > /dev/null\n",
    "\n",
    "hdfs dfs -cat ${OUT_DIR}/part-00000 | head"
   ]
  },
  {
   "cell_type": "code",
   "execution_count": null,
   "metadata": {},
   "outputs": [],
   "source": []
  }
 ],
 "metadata": {
  "kernelspec": {
   "display_name": "Python 2",
   "language": "python",
   "name": "python2"
  },
  "language_info": {
   "codemirror_mode": {
    "name": "ipython",
    "version": 2
   },
   "file_extension": ".py",
   "mimetype": "text/x-python",
   "name": "python",
   "nbconvert_exporter": "python",
   "pygments_lexer": "ipython2",
   "version": "2.7.12"
  }
 },
 "nbformat": 4,
 "nbformat_minor": 2
}
