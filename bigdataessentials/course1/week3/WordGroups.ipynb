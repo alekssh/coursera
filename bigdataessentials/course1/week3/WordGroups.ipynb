{
 "cells": [
  {
   "cell_type": "code",
   "execution_count": null,
   "metadata": {},
   "outputs": [],
   "source": [
    "%%writefile mapper.py\n",
    "\n",
    "import sys\n",
    "import re\n",
    "\n",
    "reload(sys)\n",
    "sys.setdefaultencoding('utf-8') # required to convert to unicode\n",
    "\n",
    "filterKey = \"\".join(sorted(\"english\"))\n",
    "\n",
    "stopWords = set(word.strip().lower() for word in open(\"stop_words_en.txt\"))\n",
    "\n",
    "for line in sys.stdin:\n",
    "    try:\n",
    "        article_id, text = unicode(line.strip()).split('\\t', 1)\n",
    "    except ValueError as e:\n",
    "        continue\n",
    "    words = re.split(\"\\W*\\s+\\W*\", text, flags=re.UNICODE)\n",
    "    for word in words:        \n",
    "        word = word.lower()\n",
    "        if word not in stopWords: \n",
    "            key = \"\".join(sorted(word))        \n",
    "            print \"%s\\t%s\" % (key, word)"
   ]
  },
  {
   "cell_type": "code",
   "execution_count": null,
   "metadata": {},
   "outputs": [],
   "source": [
    "%%writefile reducer.py\n",
    "\n",
    "import sys\n",
    "from sets import Set\n",
    "\n",
    "current_key = None\n",
    "word_sum = 0\n",
    "words = Set()"
   ]
  },
  {
   "cell_type": "code",
   "execution_count": null,
   "metadata": {},
   "outputs": [],
   "source": [
    "%%writefile -a reducer.py\n",
    "\n",
    "\n",
    "for line in sys.stdin:\n",
    "    try:\n",
    "        key, word = line.strip().split('\\t', 1)\n",
    "    except ValueError as e:\n",
    "        continue\n",
    "    if current_key != key:\n",
    "        if current_key:\n",
    "            if len(words)>1:\n",
    "                print \"%s\\t%d\\t%d\\t%s\" % (current_key, word_sum, len(words), \",\".join(sorted(words)))\n",
    "        word_sum = 0\n",
    "        current_key = key\n",
    "        words = Set()\n",
    "    word_sum += 1\n",
    "    words.add(word)\n",
    "\n",
    "if current_key:\n",
    "    if len(words)>1:\n",
    "        print \"%s\\t%d\\t%d\\t%s\" % (current_key, word_sum, len(words), \",\".join(sorted(words)))"
   ]
  },
  {
   "cell_type": "code",
   "execution_count": null,
   "metadata": {},
   "outputs": [],
   "source": [
    "%%writefile mapper1.py\n",
    "\n",
    "import sys\n",
    "\n",
    "filterKey = \"\".join(sorted(\"english\"))\n",
    "\n",
    "\n",
    "for line in sys.stdin:\n",
    "    try:\n",
    "        key, text = line.strip().split('\\t', 1)\n",
    "    except ValueError as e:\n",
    "        continue\n",
    "    if key == filterKey:         \n",
    "        print \"%s\" % text"
   ]
  },
  {
   "cell_type": "code",
   "execution_count": null,
   "metadata": {},
   "outputs": [],
   "source": [
    "%%bash\n",
    "\n",
    "GROUPS_DIR=\"word_groups\"\n",
    "RESULT_DIR=\"group_res\"\n",
    "NUM_REDUCERS=8\n",
    "\n",
    "hdfs dfs -rm -r -skipTrash ${GROUPS_DIR} > /dev/null\n",
    "\n",
    "hdfs dfs -rm -r -skipTrash ${RESULT_DIR} > /dev/null\n",
    "\n",
    "yarn jar /opt/cloudera/parcels/CDH/lib/hadoop-mapreduce/hadoop-streaming.jar \\\n",
    "    -D mapred.jab.name=\"Streaming word group\" \\\n",
    "    -D mapreduce.job.reduces=${NUM_REDUCERS} \\\n",
    "    -files mapper.py,reducer.py,/datasets/stop_words_en.txt \\\n",
    "    -mapper \"python mapper.py\" \\\n",
    "    -reducer \"python reducer.py\" \\\n",
    "    -input /data/wiki/en_articles_part \\\n",
    "    -output ${GROUPS_DIR} > /dev/null\n",
    "\n",
    "yarn jar /opt/cloudera/parcels/CDH/lib/hadoop-mapreduce/hadoop-streaming.jar \\\n",
    "    -D mapreduce.job.name=\"Streaming group filter\" \\\n",
    "    -D mapreduce.job.reduces=1 \\\n",
    "    -files mapper1.py, \\\n",
    "    -mapper \"python mapper1.py\" \\\n",
    "    -input ${GROUPS_DIR} \\\n",
    "    -output ${RESULT_DIR} > /dev/null\n",
    "\n",
    "hdfs dfs -cat ${RESULT_DIR}/part-00000 | head"
   ]
  },
  {
   "cell_type": "code",
   "execution_count": null,
   "metadata": {},
   "outputs": [],
   "source": []
  }
 ],
 "metadata": {
  "kernelspec": {
   "display_name": "Python 2",
   "language": "python",
   "name": "python2"
  },
  "language_info": {
   "codemirror_mode": {
    "name": "ipython",
    "version": 2
   },
   "file_extension": ".py",
   "mimetype": "text/x-python",
   "name": "python",
   "nbconvert_exporter": "python",
   "pygments_lexer": "ipython2",
   "version": "2.7.12"
  }
 },
 "nbformat": 4,
 "nbformat_minor": 2
}
