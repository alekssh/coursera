{
 "cells": [
  {
   "cell_type": "code",
   "execution_count": 8,
   "metadata": {},
   "outputs": [],
   "source": [
    "from pyspark import SparkConf, SparkContext\n",
    "import pyspark\n",
    "sc = SparkContext.getOrCreate(conf=SparkConf().setAppName(\"MyApp\").setMaster(\"local\"))"
   ]
  },
  {
   "cell_type": "code",
   "execution_count": null,
   "metadata": {},
   "outputs": [],
   "source": [
    "def parse_edge(s):\n",
    "  user, follower = s.split(\"\\t\")\n",
    "  return (int(user), int(follower))\n",
    "\n",
    "def step(item):\n",
    "  prev_v, prev_d, next_v = item[0], item[1][0][0], item[1][1]\n",
    "  return (next_v, (prev_d + 1, prev_v))\n",
    "\n",
    "def complete(item):\n",
    "  v, old, new = item[0], item[1][0], item[1][1]\n",
    "  return (v, (old[0] if old is not None else new[0], old[1] if old is not None else new[1]))\n",
    "\n",
    "n = 4  # number of partitions\n",
    "edges = sc.textFile(\"/data/twitter/twitter_sample.txt\").map(parse_edge).cache()\n",
    "forward_edges = edges.map(lambda e: (e[1], e[0])).partitionBy(n).persist()\n",
    "\n",
    "\n",
    "x = 12\n",
    "d = 0\n",
    "p = None\n",
    "\n",
    "dest = 34\n",
    "\n",
    "distances = sc.parallelize([(x, (d, p))]).partitionBy(n)\n",
    "\n",
    "while True:       \n",
    "    candidates = distances.filter(lambda i: i[1][0] == d).join(forward_edges, n).map(step)    \n",
    "\n",
    "    new_distances = distances.fullOuterJoin(candidates, n).map(complete, True).persist(pyspark.StorageLevel.DISK_ONLY) \n",
    "    \n",
    "    count = new_distances.filter(lambda i: i[1][0] == d + 1).count()\n",
    "    path_v = new_distances.lookup(dest)\n",
    "  \n",
    "    if count > 0 and not path_v:\n",
    "        d += 1\n",
    "        distances = new_distances\n",
    "        print(\"d = \", d, \"count = \", count, \"dest = \", path_v)\n",
    "    else:               \n",
    "        break\n",
    "\n",
    "    \n"
   ]
  },
  {
   "cell_type": "code",
   "execution_count": 65,
   "metadata": {},
   "outputs": [
    {
     "name": "stdout",
     "output_type": "stream",
     "text": [
      "\n"
     ]
    }
   ],
   "source": [
    "path=[]\n",
    "\n",
    "if path_v:\n",
    "    path.append(dest)\n",
    "    while path_v and path_v[0][1]:\n",
    "        path.append(path_v[0][1])\n",
    "        path_v = new_distances.lookup(path_v[0][1])\n",
    "   \n",
    "print(\",\".join(str(x) for x in path[::-1]))\n"
   ]
  },
  {
   "cell_type": "code",
   "execution_count": null,
   "metadata": {},
   "outputs": [],
   "source": []
  }
 ],
 "metadata": {
  "kernelspec": {
   "display_name": "Python 2",
   "language": "python",
   "name": "python2"
  },
  "language_info": {
   "codemirror_mode": {
    "name": "ipython",
    "version": 2
   },
   "file_extension": ".py",
   "mimetype": "text/x-python",
   "name": "python",
   "nbconvert_exporter": "python",
   "pygments_lexer": "ipython2",
   "version": "2.7.12"
  }
 },
 "nbformat": 4,
 "nbformat_minor": 2
}
