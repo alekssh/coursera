{
 "cells": [
  {
   "cell_type": "code",
   "execution_count": 53,
   "metadata": {},
   "outputs": [
    {
     "name": "stdout",
     "output_type": "stream",
     "text": [
      "Overwriting mapper.py\n"
     ]
    }
   ],
   "source": [
    "%%writefile mapper.py\n",
    "\n",
    "import sys\n",
    "import re\n",
    "\n",
    "reload(sys)\n",
    "sys.setdefaultencoding('utf-8') # required to convert to unicode\n",
    "\n",
    "stopWords = set(word.strip().lower() for word in open(\"stop_words_en.txt\"))\n",
    "\n",
    "for line in sys.stdin:\n",
    "    try:\n",
    "        article_id, text = unicode(line.strip()).split('\\t', 1)\n",
    "    except ValueError as e:\n",
    "        continue\n",
    "                                                      \n",
    "    words = re.split(\"\\W*\\s+\\W*\", text, flags=re.UNICODE)\n",
    "    words = [word.lower() for word in words]\n",
    "    words = [word for word in words if word not in stopWords]\n",
    "                                                     \n",
    "    for word in words:     \n",
    "        if word.isalpha():\n",
    "            print \"%s\\t%s\\t%d\" % (word, article_id, 1)"
   ]
  },
  {
   "cell_type": "code",
   "execution_count": 54,
   "metadata": {},
   "outputs": [
    {
     "name": "stdout",
     "output_type": "stream",
     "text": [
      "Overwriting reducer.py\n"
     ]
    }
   ],
   "source": [
    "%%writefile reducer.py\n",
    "\n",
    "import sys\n",
    "\n",
    "current_word = None\n",
    "current_article = None\n",
    "article_count = 0\n",
    "\n",
    "for line in sys.stdin:\n",
    "    try:\n",
    "        word, article, count = line.strip().split('\\t', 2)\n",
    "    except ValueError as e:\n",
    "        continue\n",
    "        \n",
    "    if current_word != word:\n",
    "        if current_word:\n",
    "            print \"%s\\t%d\\t%d\" % (current_word, 0, article_count)\n",
    "        current_word = word\n",
    "        current_article = article\n",
    "        article_count = 1\n",
    "    elif current_article != article:        \n",
    "        article_count +=1        \n",
    "        current_article = article\n",
    "\n",
    "if current_word:\n",
    "    print \"%s\\t%d\\t%d\" % (current_word, 0, article_count)"
   ]
  },
  {
   "cell_type": "code",
   "execution_count": 55,
   "metadata": {},
   "outputs": [
    {
     "name": "stdout",
     "output_type": "stream",
     "text": [
      "Overwriting mapper1.py\n"
     ]
    }
   ],
   "source": [
    "%%writefile mapper1.py\n",
    "\n",
    "import sys\n",
    "import re\n",
    "import os\n",
    "\n",
    "reload(sys)\n",
    "sys.setdefaultencoding('utf-8') # required to convert to unicode\n",
    "\n",
    "stopWords = set(word.strip().lower() for word in open(\"stop_words_en.txt\"))\n",
    "\n",
    "for line in sys.stdin:\n",
    "   \n",
    "    if \"article_count\" in os.environ[\"mapreduce_map_input_file\"]:\n",
    "        print line.strip()\n",
    "    else:\n",
    "        try:\n",
    "            article_id, text = unicode(line.strip()).split('\\t', 1)\n",
    "        except ValueError as e:\n",
    "            continue\n",
    "                                                      \n",
    "        words = re.split(\"\\W*\\s+\\W*\", text, flags=re.UNICODE)\n",
    "        \n",
    "        words = [word.lower() for word in words]\n",
    "        words = [word for word in words if word not in stopWords]\n",
    "                                                     \n",
    "        article_size = len(words)\n",
    "        \n",
    "        for word in words:\n",
    "            if word.isalpha():\n",
    "                print \"%s\\t%s\\t%d\" % (word, article_id, article_size)\n",
    "    \n"
   ]
  },
  {
   "cell_type": "code",
   "execution_count": 56,
   "metadata": {},
   "outputs": [
    {
     "name": "stdout",
     "output_type": "stream",
     "text": [
      "Overwriting reducer1.py\n"
     ]
    }
   ],
   "source": [
    "%%writefile reducer1.py\n",
    "\n",
    "from __future__ import print_function\n",
    "from math import log\n",
    "import sys\n",
    "\n",
    "current_word = None\n",
    "current_article = None\n",
    "current_article_size = 0\n",
    "articles_count = 0\n",
    "word_count = 0\n",
    "\n",
    "def printResult():\n",
    "    tf = 1.0*word_count/current_article_size\n",
    "    idf = log(4100.0/articles_count)\n",
    "    print(current_word, current_article, tf*idf, sep=\"\\t\")\n",
    "    return\n",
    "\n",
    "\n",
    "for line in sys.stdin:\n",
    "    try:\n",
    "        word, article, count = line.strip().split('\\t', 2)\n",
    "        count = int(count)\n",
    "    except ValueError as e:\n",
    "        continue    \n",
    "    if article==\"0\":\n",
    "        if current_article:\n",
    "            printResult()\n",
    "        word_count = 0\n",
    "        current_article = None\n",
    "        current_article_size = 0        \n",
    "        articles_count = count\n",
    "        current_word = word\n",
    "    elif current_article != article:\n",
    "        if current_article:\n",
    "            printResult()\n",
    "        current_article = article\n",
    "        current_article_size = count\n",
    "        word_count = 1\n",
    "    else:\n",
    "        word_count += 1\n",
    "\n",
    "if current_article:\n",
    "    printResult()"
   ]
  },
  {
   "cell_type": "code",
   "execution_count": null,
   "metadata": {},
   "outputs": [],
   "source": [
    "%%bash\n",
    "\n",
    "ARTICLE_COUNT=article_count\n",
    "OUT=result\n",
    "\n",
    "NUM_REDUCERS=8\n",
    "\n",
    "hdfs dfs -rm -r -skipTrash ${ARTICLE_COUNT} > /dev/null\n",
    "hdfs dfs -rm -r -skipTrash ${OUT} > /dev/null\n",
    "\n",
    "yarn jar /opt/cloudera/parcels/CDH/lib/hadoop-mapreduce/hadoop-streaming.jar \\\n",
    "    -D mapreduce.job.name=\"Streaming word count per article\" \\\n",
    "    -D mapreduce.job.reduces=${NUM_REDUCERS} \\\n",
    "    -D mapreduce.job.output.key.comparator.class=org.apache.hadoop.mapred.lib.KeyFieldBasedComparator \\\n",
    "    -D mapreduce.partition.keypartitioner.options=\"-k1,1\" \\\n",
    "    -D mapreduce.partition.keycomparator.options=\"-k1,2\" \\\n",
    "    -D stream.num.map.output.key.fields=2 \\\n",
    "    -files mapper.py,reducer.py,/datasets/stop_words_en.txt \\\n",
    "    -mapper \"python mapper.py\" \\\n",
    "    -reducer \"python reducer.py\" \\\n",
    "    -input /data/wiki/en_articles_part \\\n",
    "    -partitioner org.apache.hadoop.mapred.lib.KeyFieldBasedPartitioner \\\n",
    "    -output ${ARTICLE_COUNT} > /dev/null\n",
    "    \n",
    "yarn jar /opt/cloudera/parcels/CDH/lib/hadoop-mapreduce/hadoop-streaming.jar \\\n",
    "    -D mapreduce.job.name=\"Streaming tf-idf\" \\\n",
    "    -D mapreduce.job.reduces=${NUM_REDUCERS} \\\n",
    "    -D mapreduce.job.output.key.comparator.class=org.apache.hadoop.mapred.lib.KeyFieldBasedComparator \\\n",
    "    -D mapreduce.partition.keypartitioner.options=\"-k1,1\" \\\n",
    "    -D mapreduce.partition.keycomparator.options=\"-k1,2\" \\\n",
    "    -D stream.num.map.output.key.fields=2 \\\n",
    "    -files mapper1.py,reducer1.py,/datasets/stop_words_en.txt \\\n",
    "    -mapper \"python mapper1.py\" \\\n",
    "    -reducer \"python reducer1.py\" \\\n",
    "    -input ${ARTICLE_COUNT},/data/wiki/en_articles_part \\\n",
    "    -partitioner org.apache.hadoop.mapred.lib.KeyFieldBasedPartitioner \\\n",
    "    -output ${OUT} > /dev/null\n",
    "\n",
    "\n",
    "hdfs dfs -cat result/* |grep -P 'labor\\t12\\t' | cut -f3"
   ]
  },
  {
   "cell_type": "code",
   "execution_count": null,
   "metadata": {},
   "outputs": [],
   "source": []
  }
 ],
 "metadata": {
  "kernelspec": {
   "display_name": "Python 2",
   "language": "python",
   "name": "python2"
  },
  "language_info": {
   "codemirror_mode": {
    "name": "ipython",
    "version": 2
   },
   "file_extension": ".py",
   "mimetype": "text/x-python",
   "name": "python",
   "nbconvert_exporter": "python",
   "pygments_lexer": "ipython2",
   "version": "2.7.12"
  }
 },
 "nbformat": 4,
 "nbformat_minor": 2
}
