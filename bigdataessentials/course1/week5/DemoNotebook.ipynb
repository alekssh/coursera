{
 "cells": [
  {
   "cell_type": "code",
   "execution_count": null,
   "metadata": {},
   "outputs": [],
   "source": [
    "%%writefile mapper.py\n",
    "\n",
    "import sys\n",
    "import re\n",
    "\n",
    "reload(sys)\n",
    "sys.setdefaultencoding('utf-8') # required to convert to unicode\n",
    "\n",
    "for line in sys.stdin:\n",
    "    try:\n",
    "        article_id, text = unicode(line.strip()).split('\\t', 1)\n",
    "    except ValueError as e:\n",
    "        continue\n",
    "    words = re.split(\"\\W*\\s+\\W*\", text, flags=re.UNICODE)\n",
    "    for word in words:\n",
    "        print >> sys.stderr, \"reporter:counter:Wiki stats,Total words,%d\" % 1\n",
    "        print \"%s\\t%d\" % (word.lower(), 1)"
   ]
  },
  {
   "cell_type": "code",
   "execution_count": 2,
   "metadata": {},
   "outputs": [
    {
     "name": "stdout",
     "output_type": "stream",
     "text": [
      "Writing reducer.py\n"
     ]
    }
   ],
   "source": [
    "%%writefile reducer.py\n",
    "\n",
    "import sys\n",
    "\n",
    "current_key = None\n",
    "word_sum = 0"
   ]
  },
  {
   "cell_type": "code",
   "execution_count": 3,
   "metadata": {},
   "outputs": [
    {
     "name": "stdout",
     "output_type": "stream",
     "text": [
      "Appending to reducer.py\n"
     ]
    }
   ],
   "source": [
    "%%writefile -a reducer.py\n",
    "\n",
    "for line in sys.stdin:\n",
    "    try:\n",
    "        key, count = line.strip().split('\\t', 1)\n",
    "        count = int(count)\n",
    "    except ValueError as e:\n",
    "        continue\n",
    "    if current_key != key:\n",
    "        if current_key:\n",
    "            print \"%s\\t%d\" % (current_key, word_sum)\n",
    "        word_sum = 0\n",
    "        current_key = key\n",
    "    word_sum += count\n",
    "\n",
    "if current_key:\n",
    "    print \"%s\\t%d\" % (current_key, word_sum)"
   ]
  },
  {
   "cell_type": "code",
   "execution_count": 4,
   "metadata": {},
   "outputs": [
    {
     "name": "stdout",
     "output_type": "stream",
     "text": [
      "Found 1 items\r\n",
      "drwxrwxrwx   - jovyan supergroup          0 2017-10-17 13:15 /data/wiki/en_articles_part\r\n"
     ]
    }
   ],
   "source": [
    "! hdfs dfs -ls /data/wiki"
   ]
  },
  {
   "cell_type": "code",
   "execution_count": 21,
   "metadata": {},
   "outputs": [
    {
     "name": "stdout",
     "output_type": "stream",
     "text": [
      "0%however\t1\n",
      "0&\\mathrm{if\t1\n",
      "0(8)320-1234\t1\n",
      "0)).(1\t2\n",
      "0,03\t1\n",
      "0,1,...,n\t1\n",
      "0,1,0\t1\n",
      "0,1,\\dots,n\t1\n",
      "0,5\t1\n",
      "0,50\t1\n"
     ]
    },
    {
     "name": "stderr",
     "output_type": "stream",
     "text": [
      "17/11/23 16:55:23 INFO client.RMProxy: Connecting to ResourceManager at /0.0.0.0:8032\n",
      "17/11/23 16:55:23 INFO client.RMProxy: Connecting to ResourceManager at /0.0.0.0:8032\n",
      "17/11/23 16:55:23 INFO mapred.FileInputFormat: Total input files to process : 1\n",
      "17/11/23 16:55:23 INFO mapreduce.JobSubmitter: number of splits:2\n",
      "17/11/23 16:55:23 INFO mapreduce.JobSubmitter: Submitting tokens for job: job_1511394121436_0007\n",
      "17/11/23 16:55:24 INFO impl.YarnClientImpl: Submitted application application_1511394121436_0007\n",
      "17/11/23 16:55:24 INFO mapreduce.Job: The url to track the job: http://be195d52a7ef:8088/proxy/application_1511394121436_0007/\n",
      "17/11/23 16:55:24 INFO mapreduce.Job: Running job: job_1511394121436_0007\n",
      "17/11/23 16:55:30 INFO mapreduce.Job: Job job_1511394121436_0007 running in uber mode : false\n",
      "17/11/23 16:55:30 INFO mapreduce.Job:  map 0% reduce 0%\n",
      "17/11/23 16:55:46 INFO mapreduce.Job:  map 30% reduce 0%\n",
      "17/11/23 16:55:52 INFO mapreduce.Job:  map 46% reduce 0%\n",
      "17/11/23 16:55:58 INFO mapreduce.Job:  map 47% reduce 0%\n",
      "17/11/23 16:56:04 INFO mapreduce.Job:  map 62% reduce 0%\n",
      "17/11/23 16:56:10 INFO mapreduce.Job:  map 67% reduce 0%\n",
      "17/11/23 16:56:11 INFO mapreduce.Job:  map 83% reduce 0%\n",
      "17/11/23 16:56:12 INFO mapreduce.Job:  map 100% reduce 0%\n",
      "17/11/23 16:56:16 INFO mapreduce.Job:  map 100% reduce 13%\n",
      "17/11/23 16:56:17 INFO mapreduce.Job:  map 100% reduce 25%\n",
      "17/11/23 16:56:18 INFO mapreduce.Job:  map 100% reduce 38%\n",
      "17/11/23 16:56:19 INFO mapreduce.Job:  map 100% reduce 50%\n",
      "17/11/23 16:56:20 INFO mapreduce.Job:  map 100% reduce 63%\n",
      "17/11/23 16:56:21 INFO mapreduce.Job:  map 100% reduce 75%\n",
      "17/11/23 16:56:22 INFO mapreduce.Job:  map 100% reduce 100%\n",
      "17/11/23 16:56:23 INFO mapreduce.Job: Job job_1511394121436_0007 completed successfully\n",
      "17/11/23 16:56:23 INFO mapreduce.Job: Counters: 51\n",
      "\tFile System Counters\n",
      "\t\tFILE: Number of bytes read=17954826\n",
      "\t\tFILE: Number of bytes written=28257883\n",
      "\t\tFILE: Number of read operations=0\n",
      "\t\tFILE: Number of large read operations=0\n",
      "\t\tFILE: Number of write operations=0\n",
      "\t\tHDFS: Number of bytes read=76874501\n",
      "\t\tHDFS: Number of bytes written=5370513\n",
      "\t\tHDFS: Number of read operations=30\n",
      "\t\tHDFS: Number of large read operations=0\n",
      "\t\tHDFS: Number of write operations=16\n",
      "\tJob Counters \n",
      "\t\tKilled reduce tasks=1\n",
      "\t\tLaunched map tasks=2\n",
      "\t\tLaunched reduce tasks=8\n",
      "\t\tData-local map tasks=2\n",
      "\t\tTotal time spent by all maps in occupied slots (ms)=79441\n",
      "\t\tTotal time spent by all reduces in occupied slots (ms)=22295\n",
      "\t\tTotal time spent by all map tasks (ms)=79441\n",
      "\t\tTotal time spent by all reduce tasks (ms)=22295\n",
      "\t\tTotal vcore-milliseconds taken by all map tasks=79441\n",
      "\t\tTotal vcore-milliseconds taken by all reduce tasks=22295\n",
      "\t\tTotal megabyte-milliseconds taken by all map tasks=81347584\n",
      "\t\tTotal megabyte-milliseconds taken by all reduce tasks=22830080\n",
      "\tMap-Reduce Framework\n",
      "\t\tMap input records=4100\n",
      "\t\tMap output records=11937375\n",
      "\t\tMap output bytes=97842436\n",
      "\t\tMap output materialized bytes=8952763\n",
      "\t\tInput split bytes=228\n",
      "\t\tCombine input records=11937375\n",
      "\t\tCombine output records=640011\n",
      "\t\tReduce input groups=427175\n",
      "\t\tReduce shuffle bytes=8952763\n",
      "\t\tReduce input records=640011\n",
      "\t\tReduce output records=427175\n",
      "\t\tSpilled Records=1920033\n",
      "\t\tShuffled Maps =16\n",
      "\t\tFailed Shuffles=0\n",
      "\t\tMerged Map outputs=16\n",
      "\t\tGC time elapsed (ms)=1263\n",
      "\t\tCPU time spent (ms)=141820\n",
      "\t\tPhysical memory (bytes) snapshot=2354663424\n",
      "\t\tVirtual memory (bytes) snapshot=20215934976\n",
      "\t\tTotal committed heap usage (bytes)=1588592640\n",
      "\tShuffle Errors\n",
      "\t\tBAD_ID=0\n",
      "\t\tCONNECTION=0\n",
      "\t\tIO_ERROR=0\n",
      "\t\tWRONG_LENGTH=0\n",
      "\t\tWRONG_MAP=0\n",
      "\t\tWRONG_REDUCE=0\n",
      "\tWiki stats\n",
      "\t\tTotal words=11937375\n",
      "\tFile Input Format Counters \n",
      "\t\tBytes Read=76874273\n",
      "\tFile Output Format Counters \n",
      "\t\tBytes Written=5370513\n",
      "17/11/23 16:56:23 INFO streaming.StreamJob: Output directory: wordcount_result\n",
      "cat: Unable to write to output stream.\n"
     ]
    }
   ],
   "source": [
    "%%bash\n",
    "\n",
    "OUT_DIR=wordcount_result\n",
    "NUM_REDUCERS=8\n",
    "\n",
    "hdfs dfs -rm -r -skipTrash ${OUT_DIR} > /dev/null\n",
    "\n",
    "yarn jar /opt/cloudera/parcels/CDH/lib/hadoop-mapreduce/hadoop-streaming.jar \\\n",
    "    -D mapred.jab.name=\"Streaming wordCount\" \\\n",
    "    -D mapreduce.job.reduces=${NUM_REDUCERS} \\\n",
    "    -files mapper.py,reducer.py \\\n",
    "    -mapper \"python mapper.py\" \\\n",
    "    -combiner \"python reducer.py\" \\\n",
    "    -reducer \"python reducer.py\" \\\n",
    "    -input /data/wiki/en_articles_part \\\n",
    "    -output ${OUT_DIR} > /dev/null\n",
    "\n",
    "hdfs dfs -cat ${OUT_DIR}/part-00000 | head"
   ]
  },
  {
   "cell_type": "code",
   "execution_count": 22,
   "metadata": {},
   "outputs": [
    {
     "name": "stdout",
     "output_type": "stream",
     "text": [
      "Overwriting mapper1.py\n"
     ]
    }
   ],
   "source": [
    "%%writefile mapper1.py\n",
    "\n",
    "import sys\n",
    "\n",
    "for line in sys.stdin:\n",
    "    try:\n",
    "        key, count = line.strip().split('\\t', 1)\n",
    "    except ValueError as e:\n",
    "        continue      \n",
    "    print >> sys.stderr, \"reporter:counter:Wiki stats,Total words,%d\" % 1\n",
    "    print \"%s\\t%s\" % (count,key)"
   ]
  },
  {
   "cell_type": "code",
   "execution_count": 24,
   "metadata": {},
   "outputs": [
    {
     "name": "stdout",
     "output_type": "stream",
     "text": [
      "Overwriting reducer1.py\n"
     ]
    }
   ],
   "source": [
    "%%writefile reducer1.py\n",
    "\n",
    "import sys\n",
    "\n",
    "index = 0\n",
    "\n",
    "for line in sys.stdin:\n",
    "    try:\n",
    "        count, key = line.strip().split('\\t', 1)        \n",
    "    except ValueError as e:\n",
    "        continue\n",
    "\n",
    "    index+=1\n",
    "    if index == 7:        \n",
    "        print \"%s\\t%s\" % (key, count)\n",
    "        "
   ]
  },
  {
   "cell_type": "code",
   "execution_count": 25,
   "metadata": {},
   "outputs": [
    {
     "name": "stdout",
     "output_type": "stream",
     "text": [
      "is\t126420\n"
     ]
    },
    {
     "name": "stderr",
     "output_type": "stream",
     "text": [
      "17/11/23 16:58:38 INFO client.RMProxy: Connecting to ResourceManager at /0.0.0.0:8032\n",
      "17/11/23 16:58:38 INFO client.RMProxy: Connecting to ResourceManager at /0.0.0.0:8032\n",
      "17/11/23 16:58:39 INFO mapred.FileInputFormat: Total input files to process : 8\n",
      "17/11/23 16:58:39 INFO mapreduce.JobSubmitter: number of splits:8\n",
      "17/11/23 16:58:39 INFO mapreduce.JobSubmitter: Submitting tokens for job: job_1511394121436_0009\n",
      "17/11/23 16:58:39 INFO impl.YarnClientImpl: Submitted application application_1511394121436_0009\n",
      "17/11/23 16:58:39 INFO mapreduce.Job: The url to track the job: http://be195d52a7ef:8088/proxy/application_1511394121436_0009/\n",
      "17/11/23 16:58:39 INFO mapreduce.Job: Running job: job_1511394121436_0009\n",
      "17/11/23 16:58:45 INFO mapreduce.Job: Job job_1511394121436_0009 running in uber mode : false\n",
      "17/11/23 16:58:45 INFO mapreduce.Job:  map 0% reduce 0%\n",
      "17/11/23 16:58:51 INFO mapreduce.Job:  map 75% reduce 0%\n",
      "17/11/23 16:58:55 INFO mapreduce.Job:  map 100% reduce 0%\n",
      "17/11/23 16:58:57 INFO mapreduce.Job:  map 100% reduce 100%\n",
      "17/11/23 16:58:57 INFO mapreduce.Job: Job job_1511394121436_0009 completed successfully\n",
      "17/11/23 16:58:58 INFO mapreduce.Job: Counters: 50\n",
      "\tFile System Counters\n",
      "\t\tFILE: Number of bytes read=6224888\n",
      "\t\tFILE: Number of bytes written=13708575\n",
      "\t\tFILE: Number of read operations=0\n",
      "\t\tFILE: Number of large read operations=0\n",
      "\t\tFILE: Number of write operations=0\n",
      "\t\tHDFS: Number of bytes read=5371417\n",
      "\t\tHDFS: Number of bytes written=10\n",
      "\t\tHDFS: Number of read operations=27\n",
      "\t\tHDFS: Number of large read operations=0\n",
      "\t\tHDFS: Number of write operations=2\n",
      "\tJob Counters \n",
      "\t\tLaunched map tasks=8\n",
      "\t\tLaunched reduce tasks=1\n",
      "\t\tData-local map tasks=8\n",
      "\t\tTotal time spent by all maps in occupied slots (ms)=26322\n",
      "\t\tTotal time spent by all reduces in occupied slots (ms)=3438\n",
      "\t\tTotal time spent by all map tasks (ms)=26322\n",
      "\t\tTotal time spent by all reduce tasks (ms)=3438\n",
      "\t\tTotal vcore-milliseconds taken by all map tasks=26322\n",
      "\t\tTotal vcore-milliseconds taken by all reduce tasks=3438\n",
      "\t\tTotal megabyte-milliseconds taken by all map tasks=26953728\n",
      "\t\tTotal megabyte-milliseconds taken by all reduce tasks=3520512\n",
      "\tMap-Reduce Framework\n",
      "\t\tMap input records=427175\n",
      "\t\tMap output records=427175\n",
      "\t\tMap output bytes=5370522\n",
      "\t\tMap output materialized bytes=6224930\n",
      "\t\tInput split bytes=904\n",
      "\t\tCombine input records=0\n",
      "\t\tCombine output records=0\n",
      "\t\tReduce input groups=2075\n",
      "\t\tReduce shuffle bytes=6224930\n",
      "\t\tReduce input records=427175\n",
      "\t\tReduce output records=1\n",
      "\t\tSpilled Records=854350\n",
      "\t\tShuffled Maps =8\n",
      "\t\tFailed Shuffles=0\n",
      "\t\tMerged Map outputs=8\n",
      "\t\tGC time elapsed (ms)=1128\n",
      "\t\tCPU time spent (ms)=19270\n",
      "\t\tPhysical memory (bytes) snapshot=2608009216\n",
      "\t\tVirtual memory (bytes) snapshot=18114420736\n",
      "\t\tTotal committed heap usage (bytes)=1708130304\n",
      "\tShuffle Errors\n",
      "\t\tBAD_ID=0\n",
      "\t\tCONNECTION=0\n",
      "\t\tIO_ERROR=0\n",
      "\t\tWRONG_LENGTH=0\n",
      "\t\tWRONG_MAP=0\n",
      "\t\tWRONG_REDUCE=0\n",
      "\tWiki stats\n",
      "\t\tTotal words=427175\n",
      "\tFile Input Format Counters \n",
      "\t\tBytes Read=5370513\n",
      "\tFile Output Format Counters \n",
      "\t\tBytes Written=10\n",
      "17/11/23 16:58:58 INFO streaming.StreamJob: Output directory: wordsrating_result\n"
     ]
    }
   ],
   "source": [
    "%%bash\n",
    "\n",
    "IN_DIR=wordcount_result\n",
    "OUT_DIR=wordsrating_result\n",
    "NUM_REDUCERS=1\n",
    "\n",
    "hdfs dfs -rm -r -skipTrash ${OUT_DIR} > /dev/null\n",
    "\n",
    "yarn jar /opt/cloudera/parcels/CDH/lib/hadoop-mapreduce/hadoop-streaming.jar \\\n",
    "    -D mapreduce.job.name=\"Streaming wordCount\" \\\n",
    "    -D mapreduce.job.reduces=${NUM_REDUCERS} \\\n",
    "    -D mapreduce.job.output.key.comparator.class=org.apache.hadoop.mapreduce.lib.partition.KeyFieldBasedComparator \\\n",
    "    -D mapreduce.partition.keycomparator.options=-nr \\\n",
    "    -files mapper1.py,reducer1.py \\\n",
    "    -mapper \"python mapper1.py\" \\\n",
    "    -reducer \"python reducer1.py\" \\\n",
    "    -input ${IN_DIR} \\\n",
    "    -output ${OUT_DIR} > /dev/null\n",
    "\n",
    "hdfs dfs -cat ${OUT_DIR}/part-00000 | head"
   ]
  },
  {
   "cell_type": "code",
   "execution_count": null,
   "metadata": {},
   "outputs": [],
   "source": []
  }
 ],
 "metadata": {
  "kernelspec": {
   "display_name": "Python 2",
   "language": "python",
   "name": "python2"
  },
  "language_info": {
   "codemirror_mode": {
    "name": "ipython",
    "version": 2
   },
   "file_extension": ".py",
   "mimetype": "text/x-python",
   "name": "python",
   "nbconvert_exporter": "python",
   "pygments_lexer": "ipython2",
   "version": "2.7.12"
  }
 },
 "nbformat": 4,
 "nbformat_minor": 2
}
